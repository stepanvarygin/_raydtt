{
 "cells": [
  {
   "cell_type": "markdown",
   "id": "6e6d6054",
   "metadata": {},
   "source": [
    "# 0. Scoring"
   ]
  },
  {
   "cell_type": "code",
   "execution_count": 12,
   "id": "02559ba1",
   "metadata": {
    "tags": []
   },
   "outputs": [],
   "source": [
    "import os\n",
    "import json\n",
    "import pickle\n",
    "import glob\n",
    "import gc\n",
    "\n",
    "import calendar\n",
    "from datetime import date, timedelta, datetime\n",
    "import seaborn as sns\n",
    "import matplotlib.pyplot as plt\n",
    "\n",
    "from tqdm.auto import tqdm\n",
    "\n",
    "import numpy as np\n",
    "import pandas as pd\n",
    "pd.set_option('display.max_columns', None)\n",
    "pd.set_option('display.max_rows', 100)\n",
    "\n",
    "from pyspark import SparkContext, SparkConf\n",
    "from pyspark.sql import SparkSession\n",
    "from pyspark.sql import functions as F\n",
    "from pyspark.sql.window import Window\n",
    "from pyspark.sql.types import *\n",
    "# from pyspark.sql.functions import *\n",
    "# from pyspark.sql.functions import udf, struct, count_distinct, from_unixtime\n",
    "\n",
    "!pip install openpyxl -q\n",
    "import openpyxl"
   ]
  },
  {
   "cell_type": "code",
   "execution_count": 3,
   "id": "0ef570c2",
   "metadata": {
    "tags": []
   },
   "outputs": [],
   "source": [
    "SEED = 42\n",
    "s3a = 's3a://pvc-75e6242d-1f96-4903-a9eb-22fa28f5b73e'"
   ]
  },
  {
   "cell_type": "code",
   "execution_count": 4,
   "id": "6aac8b58",
   "metadata": {
    "tags": []
   },
   "outputs": [
    {
     "name": "stdout",
     "output_type": "stream",
     "text": [
      "/home/jovyan/__RAYDTT\n"
     ]
    },
    {
     "data": {
      "text/plain": [
       "'/home/jovyan/__RAYDTT'"
      ]
     },
     "execution_count": 4,
     "metadata": {},
     "output_type": "execute_result"
    }
   ],
   "source": [
    "home_repo = '/home/jovyan'\n",
    "project_repo = f'{home_repo}/__RAYDTT'\n",
    "\n",
    "%cd {project_repo}\n",
    "%pwd"
   ]
  },
  {
   "cell_type": "code",
   "execution_count": 4,
   "id": "61c47ea9",
   "metadata": {
    "tags": []
   },
   "outputs": [
    {
     "name": "stdout",
     "output_type": "stream",
     "text": [
      "user: /user/st054552/\n"
     ]
    },
    {
     "data": {
      "text/html": [
       "\n",
       "            <div>\n",
       "                <p><b>SparkSession - in-memory</b></p>\n",
       "                \n",
       "        <div>\n",
       "            <p><b>SparkContext</b></p>\n",
       "\n",
       "            <p><a href=\"/user/st054552/proxy/4040/jobs/\">Spark UI</a></p>\n",
       "\n",
       "            <dl>\n",
       "              <dt>Version</dt>\n",
       "                <dd><code>v3.2.0</code></dd>\n",
       "              <dt>Master</dt>\n",
       "                <dd><code>local[*]</code></dd>\n",
       "              <dt>AppName</dt>\n",
       "                <dd><code>pyspark-shell</code></dd>\n",
       "            </dl>\n",
       "        </div>\n",
       "        \n",
       "            </div>\n",
       "        "
      ],
      "text/plain": [
       "<pyspark.sql.session.SparkSession at 0x7f6b91cbda00>"
      ]
     },
     "execution_count": 4,
     "metadata": {},
     "output_type": "execute_result"
    }
   ],
   "source": [
    "def access_data(file_path):\n",
    "    with open(file_path) as file:\n",
    "        access_data = json.load(file)\n",
    "    return access_data\n",
    "\n",
    "access_s3_data = access_data('.access_s3.json')\n",
    "\n",
    "print('user:', os.environ['JUPYTERHUB_SERVICE_PREFIX'])\n",
    "\n",
    "def uiWebUrl(self):\n",
    "    from urllib.parse import urlparse\n",
    "    web_url = self._jsc.sc().uiWebUrl().get()\n",
    "    port = urlparse(web_url).port\n",
    "    return '{}proxy/{}/jobs/'.format(os.environ['JUPYTERHUB_SERVICE_PREFIX'], port)\n",
    "\n",
    "SparkContext.uiWebUrl = property(uiWebUrl)\n",
    "\n",
    "conf = SparkConf()\n",
    "conf.set('spark.master', 'local[*]')\n",
    "conf.set('spark.driver.memory', '40G')\n",
    "conf.set('spark.driver.maxResultSize', '32G')\n",
    "############################################\n",
    "conf.set('spark.driver.memoryOverhead', '2G')\n",
    "conf.set('spark.executor.memory', '36G') #32G\n",
    "conf.set('spark.executor.memoryOverhead', '2G')\n",
    "conf.set('spark.executor.cores', '10') # 8\n",
    "conf.set('spark.executor.instances', '2')\n",
    "conf.set('spark.dynamicAllocation.enabled', 'true')\n",
    "conf.set('spark.dynamicAllocation.minExecutors', '1')\n",
    "conf.set('spark.dynamicAllocation.maxExecutors', '50')\n",
    "############################################\n",
    "sc = SparkContext(conf=conf)\n",
    "spark = SparkSession(sc)\n",
    "spark._jsc.hadoopConfiguration().set('fs.s3a.access.key', access_s3_data['aws_access_key_id'])\n",
    "spark._jsc.hadoopConfiguration().set('fs.s3a.secret.key', access_s3_data['aws_secret_access_key'])\n",
    "spark._jsc.hadoopConfiguration().set('fs.s3a.impl','org.apache.hadoop.fs.s3a.S3AFileSystem')\n",
    "spark._jsc.hadoopConfiguration().set('fs.s3a.multipart.size', '104857600')\n",
    "spark._jsc.hadoopConfiguration().set('fs.s3a.block.size', '33554432')\n",
    "spark._jsc.hadoopConfiguration().set('fs.s3a.threads.max', '256')\n",
    "spark._jsc.hadoopConfiguration().set('fs.s3a.endpoint', 'http://storage.yandexcloud.net')\n",
    "spark._jsc.hadoopConfiguration().set('fs.s3a.aws.credentials.provider', \n",
    "                                     'org.apache.hadoop.fs.s3a.SimpleAWSCredentialsProvider')\n",
    "spark\n",
    "\n",
    "# conf.set('spark.driver.memory', '32G')\n",
    "# conf.set('spark.driver.maxResultSize', '4G')"
   ]
  },
  {
   "cell_type": "code",
   "execution_count": 6,
   "id": "4275b8d1",
   "metadata": {
    "tags": []
   },
   "outputs": [
    {
     "data": {
      "text/plain": [
       "25"
      ]
     },
     "execution_count": 6,
     "metadata": {},
     "output_type": "execute_result"
    }
   ],
   "source": [
    "parquets = glob.glob(f'ray_data/*.parquet')\n",
    "# parquets.remove('vgtest/data.parquet')\n",
    "len(parquets)"
   ]
  },
  {
   "cell_type": "markdown",
   "id": "65f32d37",
   "metadata": {
    "jp-MarkdownHeadingCollapsed": true,
    "tags": []
   },
   "source": [
    "# sdf_init & target"
   ]
  },
  {
   "cell_type": "code",
   "execution_count": null,
   "id": "b7b56fd9",
   "metadata": {
    "tags": []
   },
   "outputs": [],
   "source": [
    "columns = ['amplitude_id', 'event_time', 'purchase_type', 'subscription_date_start', 'paid']\n",
    "# '[server]_purchase'\n",
    "# '[server]_subscription_start_date'\n",
    "sdf = None\n",
    "\n",
    "for parquet in parquets:\n",
    "    \n",
    "    sdf_temp = spark.read.parquet(parquet).select(columns)\n",
    "    \n",
    "    sdf_temp = (\n",
    "                sdf_temp\n",
    "                #\n",
    "                # .selectExpr('*', 'SUBSTRING(`[server]_purchase`[0], 16) AS purchase') \\\n",
    "                # .drop(F.col('`[server]_purchase`')) \\\n",
    "                #\n",
    "                # .selectExpr('*', 'SUBSTRING(`[server]_subscription_start_date`[0], -10) AS subscription_start_date') \\\n",
    "                # .withColumn('subscription_start_date', F.col('subscription_start_date').cast('date')) \\\n",
    "                # .drop(F.col('`[server]_subscription_start_date`')) \\\n",
    "                #\n",
    "                .withColumn('event_time_timestamp', F.to_timestamp('event_time'))\n",
    "                .withColumn('event_time', F.to_date('event_time')) \\\n",
    "                .withColumn('paid', F.col('paid').cast('string')) \\\n",
    "                .withColumn('subscription_date_start_timestamp', F.to_timestamp('subscription_date_start')) \\\n",
    "                .withColumn('subscription_date_start', F.to_date('subscription_date_start'))\n",
    "               )\n",
    "                        \n",
    "    if sdf is None:\n",
    "        sdf = sdf_temp\n",
    "    else:\n",
    "        sdf = sdf.unionByName(sdf_temp, allowMissingColumns=True)"
   ]
  },
  {
   "cell_type": "code",
   "execution_count": null,
   "id": "1a0e707e",
   "metadata": {
    "tags": []
   },
   "outputs": [],
   "source": [
    "sdf.printSchema()"
   ]
  },
  {
   "cell_type": "code",
   "execution_count": 8,
   "id": "50e1149c-7afb-47f7-a8d6-2376a0c009cc",
   "metadata": {
    "tags": []
   },
   "outputs": [
    {
     "name": "stdout",
     "output_type": "stream",
     "text": [
      "+------------+----------+-------------+-----------------------+-----+-----------------------+---------------------------------+\n",
      "|amplitude_id|event_time|purchase_type|subscription_date_start| paid|   event_time_timestamp|subscription_date_start_timestamp|\n",
      "+------------+----------+-------------+-----------------------+-----+-----------------------+---------------------------------+\n",
      "|288086553546|2022-04-03|         null|                   null|false|2022-04-03 15:48:08.399|                             null|\n",
      "|288086553546|2022-04-06|         null|                   null|false|2022-04-06 20:33:04.817|                             null|\n",
      "|288086553546|2022-04-06|         null|                   null|false|2022-04-06 20:33:04.896|                             null|\n",
      "|288086553546|2022-04-06|         null|                   null|false|2022-04-06 20:33:08.581|                             null|\n",
      "|288086553546|2022-04-06|         null|                   null|false|2022-04-06 20:33:09.657|                             null|\n",
      "|288086553546|2022-04-06|         null|                   null|false|2022-04-06 20:45:22.553|                             null|\n",
      "|288086553546|2022-04-06|         null|                   null|false|2022-04-06 20:45:24.743|                             null|\n",
      "|288086553546|2022-04-06|         null|                   null|false|2022-04-06 20:46:42.893|                             null|\n",
      "|288086553546|2022-04-06|         null|                   null|false|2022-04-06 20:46:44.978|                             null|\n",
      "|288086553546|2022-04-06|         null|                   null|false|2022-04-06 20:46:51.949|                             null|\n",
      "|288086553546|2022-04-06|         null|                   null|false|2022-04-06 20:47:05.809|                             null|\n",
      "|288086553546|2022-04-06|         null|                   null|false|2022-04-06 20:47:08.917|                             null|\n",
      "|288086553546|2022-04-06|         null|                   null|false|2022-04-06 20:47:10.767|                             null|\n",
      "|288086553546|2022-04-06|         null|                   null|false|2022-04-06 20:47:15.165|                             null|\n",
      "|288086553546|2022-04-06|         null|                   null|false|2022-04-06 20:47:18.304|                             null|\n",
      "|288086553546|2022-04-06|         null|                   null|false|2022-04-06 20:47:22.414|                             null|\n",
      "|288086553546|2022-04-06|         null|                   null|false|2022-04-06 20:47:56.454|                             null|\n",
      "|288086553546|2022-04-06|         null|                   null|false|2022-04-06 20:47:56.459|                             null|\n",
      "|288086553546|2022-04-06|         null|                   null|false|2022-04-06 20:47:56.461|                             null|\n",
      "|291772574309|2022-04-06|         null|                   null|false|2022-04-06 16:24:45.408|                             null|\n",
      "+------------+----------+-------------+-----------------------+-----+-----------------------+---------------------------------+\n",
      "only showing top 20 rows\n",
      "\n"
     ]
    }
   ],
   "source": [
    "sdf.select('*').show(truncate=200)"
   ]
  },
  {
   "cell_type": "code",
   "execution_count": 8,
   "id": "0e79c478",
   "metadata": {
    "tags": []
   },
   "outputs": [
    {
     "name": "stdout",
     "output_type": "stream",
     "text": [
      "CPU times: user 5.64 ms, sys: 0 ns, total: 5.64 ms\n",
      "Wall time: 168 ms\n"
     ]
    }
   ],
   "source": [
    "%%time\n",
    "target = (\n",
    "            sdf\n",
    "            .filter(\n",
    "                (F.col('subscription_date_start').isNotNull()) & \n",
    "                ((F.col('paid') == 'yes') | (F.col('paid') == 'true'))\n",
    "                    )\n",
    "            .groupBy('amplitude_id')\n",
    "            .agg(\n",
    "                F.min('subscription_date_start').alias('target_date'),\n",
    "                F.min('subscription_date_start_timestamp').alias('target_date_timestamp'),\n",
    "                F.trunc(F.min('subscription_date_start'), 'month').alias('target_month')\n",
    "                )\n",
    "        )"
   ]
  },
  {
   "cell_type": "code",
   "execution_count": 9,
   "id": "f6e93254",
   "metadata": {
    "tags": []
   },
   "outputs": [
    {
     "name": "stdout",
     "output_type": "stream",
     "text": [
      "root\n",
      " |-- amplitude_id: long (nullable = true)\n",
      " |-- target_date: date (nullable = true)\n",
      " |-- target_date_timestamp: timestamp (nullable = true)\n",
      " |-- target_month: date (nullable = true)\n",
      "\n"
     ]
    }
   ],
   "source": [
    "target.printSchema()"
   ]
  },
  {
   "cell_type": "code",
   "execution_count": 11,
   "id": "825fb68b",
   "metadata": {
    "tags": []
   },
   "outputs": [
    {
     "name": "stdout",
     "output_type": "stream",
     "text": [
      "CPU times: user 210 ms, sys: 125 ms, total: 335 ms\n",
      "Wall time: 33min 14s\n"
     ]
    }
   ],
   "source": [
    "%%time\n",
    "file_path = f'{s3a}/bs_segments_new/sdf_init.parquet'\n",
    "\n",
    "sdf.write.parquet(path = file_path, mode = 'overwrite')"
   ]
  },
  {
   "cell_type": "code",
   "execution_count": 10,
   "id": "55ad3f5e",
   "metadata": {
    "tags": []
   },
   "outputs": [
    {
     "name": "stdout",
     "output_type": "stream",
     "text": [
      "CPU times: user 102 ms, sys: 58.1 ms, total: 160 ms\n",
      "Wall time: 15min 22s\n"
     ]
    }
   ],
   "source": [
    "%%time\n",
    "file_path = f'{s3a}/bs_segments_new/target.parquet'\n",
    "\n",
    "target.write.parquet(path = file_path, mode = 'overwrite')"
   ]
  },
  {
   "cell_type": "code",
   "execution_count": 110,
   "id": "b31a05ed-a7bd-4a93-8b35-8de0331b111f",
   "metadata": {
    "tags": []
   },
   "outputs": [
    {
     "data": {
      "text/plain": [
       "0.3395352430839672"
      ]
     },
     "execution_count": 110,
     "metadata": {},
     "output_type": "execute_result"
    }
   ],
   "source": [
    "catboost_pred_test_new[catboost_pred_test_new.pred==1].predict_proba.mean()"
   ]
  },
  {
   "cell_type": "code",
   "execution_count": 111,
   "id": "5b3739cc-4481-46d4-8619-aacaafafc29f",
   "metadata": {
    "tags": []
   },
   "outputs": [
    {
     "data": {
      "text/plain": [
       "0.007693638771679955"
      ]
     },
     "execution_count": 111,
     "metadata": {},
     "output_type": "execute_result"
    }
   ],
   "source": [
    "X_test.target.sum()/len(X_test)"
   ]
  }
 ],
 "metadata": {
  "kernelspec": {
   "display_name": "Python 3 (ipykernel)",
   "language": "python",
   "name": "python3"
  },
  "language_info": {
   "codemirror_mode": {
    "name": "ipython",
    "version": 3
   },
   "file_extension": ".py",
   "mimetype": "text/x-python",
   "name": "python",
   "nbconvert_exporter": "python",
   "pygments_lexer": "ipython3",
   "version": "3.9.7"
  }
 },
 "nbformat": 4,
 "nbformat_minor": 5
}
