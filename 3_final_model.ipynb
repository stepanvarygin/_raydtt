{
 "cells": [
  {
   "cell_type": "markdown",
   "id": "5c7afff4",
   "metadata": {},
   "source": [
    "# 0. Libs & Initialization"
   ]
  },
  {
   "cell_type": "code",
   "execution_count": 1,
   "id": "aa209770",
   "metadata": {
    "tags": []
   },
   "outputs": [],
   "source": [
    "!pip install pandasql -q\n",
    "!pip install catboost -q\n",
    "!pip install shap -q\n",
    "!pip install openpyxl -q"
   ]
  },
  {
   "cell_type": "code",
   "execution_count": 2,
   "id": "627f93f6",
   "metadata": {
    "tags": []
   },
   "outputs": [],
   "source": [
    "import pickle\n",
    "import json\n",
    "import calendar\n",
    "import gc\n",
    "import random\n",
    "from datetime import date, timedelta, datetime\n",
    "import openpyxl\n",
    "\n",
    "from tqdm.auto import tqdm\n",
    "\n",
    "import numpy as np\n",
    "import pandas as pd\n",
    "pd.set_option('display.max_columns', None)\n",
    "pd.set_option('display.max_rows', 100)\n",
    "\n",
    "import seaborn as sns\n",
    "sns.set_palette('muted') # for the sns palette\n",
    "sns.set_color_codes('muted')\n",
    "sns.set_style('white') # grid\n",
    "\n",
    "import matplotlib.pyplot as plt\n",
    "# pd.options.plotting.backend = \"plotly\"\n",
    "\n",
    "import warnings\n",
    "warnings.filterwarnings('ignore')\n",
    "\n",
    "import scipy.stats\n",
    "from statsmodels.graphics.mosaicplot import mosaic\n",
    "from pandasql import sqldf"
   ]
  },
  {
   "cell_type": "code",
   "execution_count": 3,
   "id": "13ac7ccc",
   "metadata": {
    "tags": []
   },
   "outputs": [],
   "source": [
    "from sklearn.model_selection import train_test_split\n",
    "from sklearn.model_selection import ParameterGrid\n",
    "\n",
    "from sklearn.linear_model import LinearRegression\n",
    "from sklearn.linear_model import LogisticRegression\n",
    "from sklearn.linear_model import ElasticNet\n",
    "\n",
    "from sklearn.impute import SimpleImputer\n",
    "\n",
    "from sklearn.preprocessing import StandardScaler, MinMaxScaler, OneHotEncoder, LabelEncoder\n",
    "\n",
    "from sklearn.pipeline import make_pipeline, Pipeline\n",
    "\n",
    "from sklearn.metrics import accuracy_score, balanced_accuracy_score, classification_report\n",
    "from sklearn.metrics import precision_score, average_precision_score, recall_score\n",
    "from sklearn.metrics import confusion_matrix, ConfusionMatrixDisplay\n",
    "from sklearn.metrics import roc_auc_score, precision_recall_curve, RocCurveDisplay \n",
    "from sklearn.metrics import roc_curve, auc, f1_score\n",
    "\n",
    "import shap\n",
    "\n",
    "from catboost import CatBoostClassifier\n",
    "from catboost import Pool"
   ]
  },
  {
   "cell_type": "code",
   "execution_count": 4,
   "id": "006bb1b7",
   "metadata": {
    "tags": []
   },
   "outputs": [
    {
     "name": "stdout",
     "output_type": "stream",
     "text": [
      "/home/jovyan/__RAYDTT\n"
     ]
    },
    {
     "data": {
      "text/plain": [
       "'/home/jovyan/__RAYDTT'"
      ]
     },
     "execution_count": 4,
     "metadata": {},
     "output_type": "execute_result"
    }
   ],
   "source": [
    "home_repo = '/home/jovyan'\n",
    "project_repo = f'{home_repo}/__RAYDTT'\n",
    "\n",
    "%cd {project_repo}\n",
    "%pwd"
   ]
  },
  {
   "cell_type": "code",
   "execution_count": 5,
   "id": "fe2d3c27",
   "metadata": {},
   "outputs": [],
   "source": [
    "SEED = 42\n",
    "model_name = 'CatBoostClassifier'\n",
    "trials_path = '/pickles/{}_optuna_trials.pickle'.format(model_name)"
   ]
  },
  {
   "cell_type": "code",
   "execution_count": 6,
   "id": "2f68855c",
   "metadata": {},
   "outputs": [],
   "source": [
    "np.random.seed(SEED)\n",
    "random.seed(SEED)"
   ]
  },
  {
   "cell_type": "code",
   "execution_count": 7,
   "id": "2e72b8e2",
   "metadata": {},
   "outputs": [],
   "source": [
    "def plot_roc_curve(y_true, y_pred_proba):\n",
    "\n",
    "    fpr, tpr, thresholds = roc_curve(y_true, y_pred_proba)\n",
    "    roc_auc = roc_auc_score(y_true, y_pred_proba)\n",
    "\n",
    "    # Plot the ROC curve\n",
    "    plt.figure(figsize=(17, 10))\n",
    "    plt.plot(fpr, tpr, color=color[0] , lw=2, label=f'ROC curve (AUC = {roc_auc:.3f})')\n",
    "    plt.plot([0, 1], [0, 1], color=color[1], lw=2, linestyle='--') # ['#74197f','#14b956']\n",
    "    plt.xlim([0.0, 1.0])\n",
    "    plt.ylim([0.0, 1.05])\n",
    "    plt.xlabel('False Positive Rate')\n",
    "    plt.ylabel('True Positive Rate')\n",
    "    plt.title('ROC Curve')\n",
    "    plt.show()\n",
    "\n",
    "    return roc_auc"
   ]
  },
  {
   "cell_type": "code",
   "execution_count": 36,
   "id": "31981556",
   "metadata": {},
   "outputs": [],
   "source": [
    "def get_reports(y_pred, y_true, perc=[0.01, 0.03, 0.05, 0.1, 0.15, 0.2, 0.3, 0.4, 0.5, 0.6, 0.7, 0.8, 0.9, 1.]):\n",
    "\n",
    "    y_pred = pd.Series(y_pred)\n",
    "    y_true = pd.Series(y_true)\n",
    "    print('ROC AUC: %.3f' % roc_auc_score(y_true, y_pred))\n",
    "\n",
    "    coef = y_true.sum() / len(y_true)\n",
    "\n",
    "    report = pd.DataFrame(columns=[], index=['LIFT', 'PRECISION', 'RECALL', 'COUNT'])   \n",
    "\n",
    "    for p in perc:\n",
    "\n",
    "        thr = y_pred.quantile(1-p)\n",
    "\n",
    "        report['top {}%'.format(int(p*100))] = pd.Series([\n",
    "\n",
    "            np.round(precision_score(y_true, np.round(y_pred-thr+0.5)) / coef, 3),\n",
    "\n",
    "            np.round(precision_score(y_true, np.round(y_pred-thr+0.5)), 3),\n",
    "\n",
    "            np.round(recall_score(y_true, np.round(y_pred-thr+0.5)), 3),\n",
    "\n",
    "            str(np.round(y_pred-thr+0.5).sum())[:-2]\n",
    "\n",
    "        ], index=report.index)\n",
    "    \n",
    "    return report"
   ]
  },
  {
   "cell_type": "code",
   "execution_count": 27,
   "id": "9357c0b3",
   "metadata": {},
   "outputs": [],
   "source": [
    "def get_reports_pd(y_pred, y_true, perc=[0.01, 0.03, 0.05, 0.1, 0.15, 0.2, 0.3, 0.4, 0.5, 0.6, 0.7, 0.8, 0.9, 1.]):\n",
    "    \n",
    "    metrics_list = []\n",
    "    y_pred = pd.Series(y_pred)\n",
    "    y_true = pd.Series(y_true)\n",
    "\n",
    "    coef = y_true.sum() / len(y_true)\n",
    "\n",
    "    #report = pd.DataFrame(columns=[], index=['LIFT', 'PRECISION', 'RECALL', 'COUNT'])   \n",
    "\n",
    "    for p in perc:\n",
    "        \n",
    "        metrics_dict = {}\n",
    "\n",
    "        thr = y_pred.quantile(1-p)\n",
    "        \n",
    "        precision = np.round(precision_score(y_true, np.round(y_pred-thr+0.5)), 3)\n",
    "        precision_lift = np.round(precision_score(y_true, np.round(y_pred-thr+0.5)) / coef, 3)\n",
    "        \n",
    "        recall = np.round(recall_score(y_true, np.round(y_pred-thr+0.5)), 3)\n",
    "        \n",
    "        f1 = np.round(f1_score(y_true, np.round(y_pred-thr+0.5)), 3)\n",
    "        #f1_lift = np.round(f1_score(y_true, np.round(y_pred-thr+0.5)) / coef, 3)\n",
    "        \n",
    "        count = int(np.round(y_pred-thr+0.5).sum())\n",
    "        \n",
    "        metrics_dict['MODEL'] = model_name\n",
    "        metrics_dict['TOP'] = f'{str(int(p*100))}%'\n",
    "        metrics_dict['COUNT'] = count\n",
    "        metrics_dict['F1@TOP'] = f1\n",
    "        metrics_dict['RECALL@TOP'] = recall\n",
    "        metrics_dict['PRECISION@TOP'] = precision\n",
    "        metrics_dict['LIFT@TOP'] = precision_lift\n",
    "        #metrics_dict['F1_LIFT@TOP'] = f1_lift\n",
    "        \n",
    "        metrics_list.append(metrics_dict)\n",
    "        \n",
    "    result_df = pd.DataFrame(metrics_list)\n",
    "    \n",
    "    return result_df"
   ]
  },
  {
   "cell_type": "code",
   "execution_count": 9,
   "id": "23820734",
   "metadata": {},
   "outputs": [],
   "source": [
    "color_0 = ['#d53e4f', '#fc8d59', '#fee08b', '#e6f598', '#99d594', '#3288bd']\n",
    "color_1 = ['#74197f','#14b956']\n",
    "color = ['#3288bd', '#99d594']\n",
    "color = color + color_0 + color_1"
   ]
  },
  {
   "cell_type": "markdown",
   "id": "7fb4b391",
   "metadata": {},
   "source": [
    "# `CatBoostClassifier()`"
   ]
  },
  {
   "cell_type": "code",
   "execution_count": 10,
   "id": "d8be68f7",
   "metadata": {
    "tags": []
   },
   "outputs": [
    {
     "name": "stdout",
     "output_type": "stream",
     "text": [
      ".\t     cb_best_params.json    cb_best_valid.parquet  valid.csv\r\n",
      "..\t     cb_best_test.parquet   .ipynb_checkpoints\r\n",
      "10_perc.csv  cb_best_train.parquet  test.csv\r\n"
     ]
    }
   ],
   "source": [
    "!cd cb_best; ls -a"
   ]
  },
  {
   "cell_type": "code",
   "execution_count": 11,
   "id": "4c4f8201",
   "metadata": {
    "tags": []
   },
   "outputs": [
    {
     "data": {
      "text/plain": [
       "((53825, 273), (10187, 273), (75127, 273))"
      ]
     },
     "execution_count": 11,
     "metadata": {},
     "output_type": "execute_result"
    }
   ],
   "source": [
    "train = pd.read_parquet('cb_best/cb_best_train.parquet')\n",
    "valid = pd.read_parquet('cb_best/cb_best_valid.parquet')\n",
    "test = pd.read_parquet('cb_best/cb_best_test.parquet')\n",
    "train.shape, valid.shape, test.shape"
   ]
  },
  {
   "cell_type": "code",
   "execution_count": 12,
   "id": "de0d84fa",
   "metadata": {
    "tags": []
   },
   "outputs": [],
   "source": [
    "with open('cb_best/cb_best_params.json') as json_file:\n",
    "    params = json.load(json_file)"
   ]
  },
  {
   "cell_type": "code",
   "execution_count": 13,
   "id": "b8a90c82-f4a6-4dbe-947b-9fd8c3d55f2c",
   "metadata": {
    "tags": []
   },
   "outputs": [],
   "source": [
    "valid.sample(frac=0.1).to_csv('cb_best/10_perc.csv')"
   ]
  },
  {
   "cell_type": "markdown",
   "id": "6f14b88d",
   "metadata": {},
   "source": [
    "## `CatBoost()`"
   ]
  },
  {
   "cell_type": "code",
   "execution_count": 14,
   "id": "90e551fc",
   "metadata": {},
   "outputs": [
    {
     "data": {
      "text/plain": [
       "((53825, 272), (53825,), (10187, 272), (10187,), (75127, 272), (75127,))"
      ]
     },
     "execution_count": 14,
     "metadata": {},
     "output_type": "execute_result"
    }
   ],
   "source": [
    "X_train, y_train = train.drop(columns=['target']), train.target\n",
    "X_valid, y_valid = valid.drop(columns=['target']), valid.target\n",
    "X_test, y_test = test.drop(columns=['target']), test.target\n",
    "X_train.shape, y_train.shape, X_valid.shape, y_valid.shape, X_test.shape, y_test.shape"
   ]
  },
  {
   "cell_type": "code",
   "execution_count": 15,
   "id": "cefefdb8",
   "metadata": {},
   "outputs": [],
   "source": [
    "catboost = CatBoostClassifier(**params)"
   ]
  },
  {
   "cell_type": "code",
   "execution_count": 16,
   "id": "8dd09440",
   "metadata": {},
   "outputs": [
    {
     "name": "stdout",
     "output_type": "stream",
     "text": [
      "CPU times: user 27.3 s, sys: 623 ms, total: 27.9 s\n",
      "Wall time: 2.91 s\n"
     ]
    },
    {
     "data": {
      "text/plain": [
       "<catboost.core.CatBoostClassifier at 0x7fd3e868a880>"
      ]
     },
     "execution_count": 16,
     "metadata": {},
     "output_type": "execute_result"
    }
   ],
   "source": [
    "%%time\n",
    "catboost.fit(X_train, y_train)"
   ]
  },
  {
   "cell_type": "code",
   "execution_count": 17,
   "id": "9c4b6d60",
   "metadata": {},
   "outputs": [
    {
     "name": "stdout",
     "output_type": "stream",
     "text": [
      "CPU times: user 2.45 s, sys: 139 ms, total: 2.59 s\n",
      "Wall time: 1.25 s\n"
     ]
    }
   ],
   "source": [
    "%%time\n",
    "catboost_pred_train = catboost.predict(X_train)\n",
    "catboost_proba_train = catboost.predict_proba(X_train)[:, 1]\n",
    "\n",
    "catboost_pred_valid = catboost.predict(X_valid)\n",
    "catboost_proba_valid = catboost.predict_proba(X_valid)[:, 1] \n",
    "\n",
    "catboost_pred_test = catboost.predict(X_test)\n",
    "catboost_proba_test = catboost.predict_proba(X_test)[:, 1]"
   ]
  },
  {
   "cell_type": "code",
   "execution_count": 18,
   "id": "8e8884dc",
   "metadata": {},
   "outputs": [
    {
     "data": {
      "text/plain": [
       "(70, 4988, 837, 955, 5323, 578)"
      ]
     },
     "execution_count": 18,
     "metadata": {},
     "output_type": "execute_result"
    }
   ],
   "source": [
    "catboost_pred_train.sum(), y_train.sum(),\\\n",
    "catboost_pred_valid.sum(), y_valid.sum(),\\\n",
    "catboost_pred_test.sum(), y_test.sum()"
   ]
  },
  {
   "cell_type": "code",
   "execution_count": 19,
   "id": "9ed3d006",
   "metadata": {},
   "outputs": [],
   "source": [
    "pickle.dump(catboost, open(r'pickles/catboost_model_final.pickle.dat','wb')) "
   ]
  },
  {
   "cell_type": "code",
   "execution_count": 20,
   "id": "05897cd5",
   "metadata": {},
   "outputs": [
    {
     "name": "stdout",
     "output_type": "stream",
     "text": [
      ".\t\t\t\t catboost_model_upd.pickle.dat\r\n",
      "..\t\t\t\t svarygin_2105_catboost_model.pickle.dat\r\n",
      "catboost_model_final.pickle.dat  xgboost_model.pickle.dat\r\n",
      "catboost_model.pickle.dat\r\n"
     ]
    }
   ],
   "source": [
    "!cd pickles; ls -a"
   ]
  },
  {
   "cell_type": "markdown",
   "id": "4e7fb508",
   "metadata": {},
   "source": [
    "## Train Metrics"
   ]
  },
  {
   "cell_type": "code",
   "execution_count": 19,
   "id": "a52e6edc",
   "metadata": {},
   "outputs": [
    {
     "name": "stdout",
     "output_type": "stream",
     "text": [
      "Accuracy: 0.907\n",
      "Balanced accuracy: 0.503\n",
      "Average precision: 0.246\n",
      "Recall: 0.007\n",
      "Precision: 0.486\n",
      "F1: 0.013\n",
      "ROC AUC: 0.731\n",
      "PRC AUC: 0.246\n"
     ]
    }
   ],
   "source": [
    "accuracy = accuracy_score(y_train, catboost_pred_train)\n",
    "balanced_accuracy = balanced_accuracy_score(y_train, catboost_pred_train)\n",
    "average_precision = average_precision_score(y_train, catboost_proba_train)\n",
    "recall = recall_score(y_train, catboost_pred_train)\n",
    "precision = precision_score(y_train, catboost_pred_train)\n",
    "roc_auc = roc_auc_score(y_train, catboost_proba_train)\n",
    "f1 = f1_score(y_train, catboost_pred_train)\n",
    "\n",
    "precision_points, recall_points, _ = precision_recall_curve(y_train, catboost_proba_train) \n",
    "prc_auc = auc(recall_points, precision_points)\n",
    "\n",
    "print('Accuracy:', np.round(accuracy, 3))\n",
    "print('Balanced accuracy:', np.round(balanced_accuracy, 3))\n",
    "print('Average precision:', np.round(average_precision, 3))\n",
    "print('Recall:', np.round(recall, 3))\n",
    "print('Precision:', np.round(precision, 3))\n",
    "print('F1:', np.round(f1, 3))\n",
    "print('ROC AUC:', np.round(roc_auc, 3))\n",
    "print('PRC AUC:', np.round(prc_auc, 3))"
   ]
  },
  {
   "cell_type": "code",
   "execution_count": 22,
   "id": "0f9140e9",
   "metadata": {},
   "outputs": [
    {
     "data": {
      "image/png": "[encoded data removed]",
      "text/plain": [
       "<Figure size 1224x720 with 1 Axes>"
      ]
     },
     "metadata": {},
     "output_type": "display_data"
    },
    {
     "data": {
      "text/plain": [
       "0.7305174226608755"
      ]
     },
     "execution_count": 22,
     "metadata": {},
     "output_type": "execute_result"
    }
   ],
   "source": [
    "plot_roc_curve(y_train, catboost_proba_train)"
   ]
  },
  {
   "cell_type": "code",
   "execution_count": 23,
   "id": "5abcffed",
   "metadata": {},
   "outputs": [
    {
     "name": "stdout",
     "output_type": "stream",
     "text": [
      "ROC AUC: 0.731\n"
     ]
    },
    {
     "data": {
      "text/html": [
       "<div>\n",
       "<style scoped>\n",
       "    .dataframe tbody tr th:only-of-type {\n",
       "        vertical-align: middle;\n",
       "    }\n",
       "\n",
       "    .dataframe tbody tr th {\n",
       "        vertical-align: top;\n",
       "    }\n",
       "\n",
       "    .dataframe thead th {\n",
       "        text-align: right;\n",
       "    }\n",
       "</style>\n",
       "<table border=\"1\" class=\"dataframe\">\n",
       "  <thead>\n",
       "    <tr style=\"text-align: right;\">\n",
       "      <th></th>\n",
       "      <th>top 1%</th>\n",
       "      <th>top 3%</th>\n",
       "      <th>top 5%</th>\n",
       "      <th>top 10%</th>\n",
       "      <th>top 15%</th>\n",
       "      <th>top 20%</th>\n",
       "      <th>top 30%</th>\n",
       "      <th>top 40%</th>\n",
       "      <th>top 50%</th>\n",
       "      <th>top 60%</th>\n",
       "      <th>top 70%</th>\n",
       "      <th>top 80%</th>\n",
       "      <th>top 90%</th>\n",
       "      <th>top 100%</th>\n",
       "    </tr>\n",
       "  </thead>\n",
       "  <tbody>\n",
       "    <tr>\n",
       "      <th>LIFT</th>\n",
       "      <td>4.845</td>\n",
       "      <td>4.330</td>\n",
       "      <td>3.760</td>\n",
       "      <td>3.181</td>\n",
       "      <td>2.738</td>\n",
       "      <td>2.472</td>\n",
       "      <td>2.072</td>\n",
       "      <td>1.768</td>\n",
       "      <td>1.559</td>\n",
       "      <td>1.400</td>\n",
       "      <td>1.270</td>\n",
       "      <td>1.170</td>\n",
       "      <td>1.101</td>\n",
       "      <td>1.000</td>\n",
       "    </tr>\n",
       "    <tr>\n",
       "      <th>PRECISION</th>\n",
       "      <td>0.449</td>\n",
       "      <td>0.401</td>\n",
       "      <td>0.348</td>\n",
       "      <td>0.295</td>\n",
       "      <td>0.254</td>\n",
       "      <td>0.229</td>\n",
       "      <td>0.192</td>\n",
       "      <td>0.164</td>\n",
       "      <td>0.144</td>\n",
       "      <td>0.130</td>\n",
       "      <td>0.118</td>\n",
       "      <td>0.108</td>\n",
       "      <td>0.102</td>\n",
       "      <td>0.093</td>\n",
       "    </tr>\n",
       "    <tr>\n",
       "      <th>RECALL</th>\n",
       "      <td>0.049</td>\n",
       "      <td>0.130</td>\n",
       "      <td>0.188</td>\n",
       "      <td>0.318</td>\n",
       "      <td>0.411</td>\n",
       "      <td>0.494</td>\n",
       "      <td>0.621</td>\n",
       "      <td>0.706</td>\n",
       "      <td>0.779</td>\n",
       "      <td>0.836</td>\n",
       "      <td>0.889</td>\n",
       "      <td>0.936</td>\n",
       "      <td>0.964</td>\n",
       "      <td>1.000</td>\n",
       "    </tr>\n",
       "    <tr>\n",
       "      <th>COUNT</th>\n",
       "      <td>539.000</td>\n",
       "      <td>1615.000</td>\n",
       "      <td>2692.000</td>\n",
       "      <td>5383.000</td>\n",
       "      <td>8074.000</td>\n",
       "      <td>10765.000</td>\n",
       "      <td>16148.000</td>\n",
       "      <td>21510.000</td>\n",
       "      <td>26912.000</td>\n",
       "      <td>32160.000</td>\n",
       "      <td>37657.000</td>\n",
       "      <td>43051.000</td>\n",
       "      <td>47158.000</td>\n",
       "      <td>53823.000</td>\n",
       "    </tr>\n",
       "  </tbody>\n",
       "</table>\n",
       "</div>"
      ],
      "text/plain": [
       "            top 1%    top 3%    top 5%   top 10%   top 15%    top 20%  \\\n",
       "LIFT         4.845     4.330     3.760     3.181     2.738      2.472   \n",
       "PRECISION    0.449     0.401     0.348     0.295     0.254      0.229   \n",
       "RECALL       0.049     0.130     0.188     0.318     0.411      0.494   \n",
       "COUNT      539.000  1615.000  2692.000  5383.000  8074.000  10765.000   \n",
       "\n",
       "             top 30%    top 40%    top 50%    top 60%    top 70%    top 80%  \\\n",
       "LIFT           2.072      1.768      1.559      1.400      1.270      1.170   \n",
       "PRECISION      0.192      0.164      0.144      0.130      0.118      0.108   \n",
       "RECALL         0.621      0.706      0.779      0.836      0.889      0.936   \n",
       "COUNT      16148.000  21510.000  26912.000  32160.000  37657.000  43051.000   \n",
       "\n",
       "             top 90%   top 100%  \n",
       "LIFT           1.101      1.000  \n",
       "PRECISION      0.102      0.093  \n",
       "RECALL         0.964      1.000  \n",
       "COUNT      47158.000  53823.000  "
      ]
     },
     "execution_count": 23,
     "metadata": {},
     "output_type": "execute_result"
    }
   ],
   "source": [
    "get_reports(catboost_proba_train, y_train)"
   ]
  },
  {
   "cell_type": "markdown",
   "id": "eb98d126",
   "metadata": {},
   "source": [
    "## Valid Metrics"
   ]
  },
  {
   "cell_type": "code",
   "execution_count": 22,
   "id": "bbd06a00",
   "metadata": {},
   "outputs": [
    {
     "name": "stdout",
     "output_type": "stream",
     "text": [
      "Accuracy: 0.868\n",
      "Balanced accuracy: 0.584\n",
      "Average precision: 0.208\n",
      "Recall: 0.235\n",
      "Precision: 0.268\n",
      "F1: 0.25\n",
      "ROC AUC: 0.689\n",
      "PRC AUC: 0.207\n"
     ]
    }
   ],
   "source": [
    "accuracy = accuracy_score(y_valid, catboost_pred_valid)\n",
    "balanced_accuracy = balanced_accuracy_score(y_valid, catboost_pred_valid)\n",
    "average_precision = average_precision_score(y_valid, catboost_proba_valid)\n",
    "recall = recall_score(y_valid, catboost_pred_valid)\n",
    "precision = precision_score(y_valid, catboost_pred_valid)\n",
    "roc_auc = roc_auc_score(y_valid, catboost_proba_valid)\n",
    "f1 = f1_score(y_valid, catboost_pred_valid)\n",
    "\n",
    "precision_points, recall_points, _ = precision_recall_curve(y_valid, catboost_proba_valid) \n",
    "prc_auc = auc(recall_points, precision_points)\n",
    "\n",
    "print('Accuracy:', np.round(accuracy, 3))\n",
    "print('Balanced accuracy:', np.round(balanced_accuracy, 3))\n",
    "print('Average precision:', np.round(average_precision, 3))\n",
    "print('Recall:', np.round(recall, 3))\n",
    "print('Precision:', np.round(precision, 3))\n",
    "print('F1:', np.round(f1, 3))\n",
    "print('ROC AUC:', np.round(roc_auc, 3))\n",
    "print('PRC AUC:', np.round(prc_auc, 3))"
   ]
  },
  {
   "cell_type": "code",
   "execution_count": 23,
   "id": "67c9e458",
   "metadata": {},
   "outputs": [
    {
     "data": {
      "image/png": "[encoded data removed]",
      "text/plain": [
       "<Figure size 1224x720 with 1 Axes>"
      ]
     },
     "metadata": {},
     "output_type": "display_data"
    },
    {
     "data": {
      "text/plain": [
       "0.6894384544538913"
      ]
     },
     "execution_count": 23,
     "metadata": {},
     "output_type": "execute_result"
    }
   ],
   "source": [
    "plot_roc_curve(y_valid, catboost_proba_valid)"
   ]
  },
  {
   "cell_type": "code",
   "execution_count": 24,
   "id": "dfd7648b",
   "metadata": {},
   "outputs": [
    {
     "name": "stdout",
     "output_type": "stream",
     "text": [
      "ROC AUC: 0.689\n"
     ]
    },
    {
     "data": {
      "text/html": [
       "<div>\n",
       "<style scoped>\n",
       "    .dataframe tbody tr th:only-of-type {\n",
       "        vertical-align: middle;\n",
       "    }\n",
       "\n",
       "    .dataframe tbody tr th {\n",
       "        vertical-align: top;\n",
       "    }\n",
       "\n",
       "    .dataframe thead th {\n",
       "        text-align: right;\n",
       "    }\n",
       "</style>\n",
       "<table border=\"1\" class=\"dataframe\">\n",
       "  <thead>\n",
       "    <tr style=\"text-align: right;\">\n",
       "      <th></th>\n",
       "      <th>top 1%</th>\n",
       "      <th>top 3%</th>\n",
       "      <th>top 5%</th>\n",
       "      <th>top 10%</th>\n",
       "      <th>top 15%</th>\n",
       "      <th>top 20%</th>\n",
       "      <th>top 30%</th>\n",
       "      <th>top 40%</th>\n",
       "      <th>top 50%</th>\n",
       "      <th>top 60%</th>\n",
       "      <th>top 70%</th>\n",
       "      <th>top 80%</th>\n",
       "      <th>top 90%</th>\n",
       "      <th>top 100%</th>\n",
       "    </tr>\n",
       "  </thead>\n",
       "  <tbody>\n",
       "    <tr>\n",
       "      <th>LIFT</th>\n",
       "      <td>4.079</td>\n",
       "      <td>3.416</td>\n",
       "      <td>3.263</td>\n",
       "      <td>2.714</td>\n",
       "      <td>2.443</td>\n",
       "      <td>2.204</td>\n",
       "      <td>1.794</td>\n",
       "      <td>1.563</td>\n",
       "      <td>1.447</td>\n",
       "      <td>1.367</td>\n",
       "      <td>1.267</td>\n",
       "      <td>1.153</td>\n",
       "      <td>1.062</td>\n",
       "      <td>1.000</td>\n",
       "    </tr>\n",
       "    <tr>\n",
       "      <th>PRECISION</th>\n",
       "      <td>0.382</td>\n",
       "      <td>0.320</td>\n",
       "      <td>0.306</td>\n",
       "      <td>0.254</td>\n",
       "      <td>0.229</td>\n",
       "      <td>0.207</td>\n",
       "      <td>0.168</td>\n",
       "      <td>0.147</td>\n",
       "      <td>0.136</td>\n",
       "      <td>0.128</td>\n",
       "      <td>0.119</td>\n",
       "      <td>0.108</td>\n",
       "      <td>0.100</td>\n",
       "      <td>0.094</td>\n",
       "    </tr>\n",
       "    <tr>\n",
       "      <th>RECALL</th>\n",
       "      <td>0.041</td>\n",
       "      <td>0.103</td>\n",
       "      <td>0.163</td>\n",
       "      <td>0.271</td>\n",
       "      <td>0.366</td>\n",
       "      <td>0.441</td>\n",
       "      <td>0.538</td>\n",
       "      <td>0.625</td>\n",
       "      <td>0.724</td>\n",
       "      <td>0.820</td>\n",
       "      <td>0.885</td>\n",
       "      <td>0.923</td>\n",
       "      <td>0.956</td>\n",
       "      <td>1.000</td>\n",
       "    </tr>\n",
       "    <tr>\n",
       "      <th>COUNT</th>\n",
       "      <td>102.000</td>\n",
       "      <td>306.000</td>\n",
       "      <td>510.000</td>\n",
       "      <td>1018.000</td>\n",
       "      <td>1528.000</td>\n",
       "      <td>2038.000</td>\n",
       "      <td>3056.000</td>\n",
       "      <td>4075.000</td>\n",
       "      <td>5093.000</td>\n",
       "      <td>6109.000</td>\n",
       "      <td>7116.000</td>\n",
       "      <td>8149.000</td>\n",
       "      <td>9168.000</td>\n",
       "      <td>10186.000</td>\n",
       "    </tr>\n",
       "  </tbody>\n",
       "</table>\n",
       "</div>"
      ],
      "text/plain": [
       "            top 1%   top 3%   top 5%   top 10%   top 15%   top 20%   top 30%  \\\n",
       "LIFT         4.079    3.416    3.263     2.714     2.443     2.204     1.794   \n",
       "PRECISION    0.382    0.320    0.306     0.254     0.229     0.207     0.168   \n",
       "RECALL       0.041    0.103    0.163     0.271     0.366     0.441     0.538   \n",
       "COUNT      102.000  306.000  510.000  1018.000  1528.000  2038.000  3056.000   \n",
       "\n",
       "            top 40%   top 50%   top 60%   top 70%   top 80%   top 90%  \\\n",
       "LIFT          1.563     1.447     1.367     1.267     1.153     1.062   \n",
       "PRECISION     0.147     0.136     0.128     0.119     0.108     0.100   \n",
       "RECALL        0.625     0.724     0.820     0.885     0.923     0.956   \n",
       "COUNT      4075.000  5093.000  6109.000  7116.000  8149.000  9168.000   \n",
       "\n",
       "            top 100%  \n",
       "LIFT           1.000  \n",
       "PRECISION      0.094  \n",
       "RECALL         1.000  \n",
       "COUNT      10186.000  "
      ]
     },
     "execution_count": 24,
     "metadata": {},
     "output_type": "execute_result"
    }
   ],
   "source": [
    "get_reports(catboost_proba_valid, y_valid)"
   ]
  },
  {
   "cell_type": "markdown",
   "id": "f5b71955",
   "metadata": {},
   "source": [
    "## Test Metrics"
   ]
  },
  {
   "cell_type": "code",
   "execution_count": 24,
   "id": "954925af",
   "metadata": {},
   "outputs": [
    {
     "name": "stdout",
     "output_type": "stream",
     "text": [
      "Accuracy: 0.926\n",
      "Balanced accuracy: 0.619\n",
      "Average precision: 0.027\n",
      "Recall: 0.308\n",
      "Precision: 0.033\n",
      "F1: 0.06\n",
      "ROC AUC: 0.728\n",
      "PRC AUC: 0.027\n"
     ]
    }
   ],
   "source": [
    "accuracy = accuracy_score(y_test, catboost_pred_test)\n",
    "balanced_accuracy = balanced_accuracy_score(y_test, catboost_pred_test)\n",
    "average_precision = average_precision_score(y_test, catboost_proba_test)\n",
    "recall = recall_score(y_test, catboost_pred_test)\n",
    "precision = precision_score(y_test, catboost_pred_test)\n",
    "roc_auc = roc_auc_score(y_test, catboost_proba_test)\n",
    "f1 = f1_score(y_test, catboost_pred_test)\n",
    "\n",
    "precision_points, recall_points, _ = precision_recall_curve(y_test, catboost_proba_test) \n",
    "prc_auc = auc(recall_points, precision_points)\n",
    "\n",
    "print('Accuracy:', np.round(accuracy, 3))\n",
    "print('Balanced accuracy:', np.round(balanced_accuracy, 3))\n",
    "print('Average precision:', np.round(average_precision, 3))\n",
    "print('Recall:', np.round(recall, 3))\n",
    "print('Precision:', np.round(precision, 3))\n",
    "print('F1:', np.round(f1, 3))\n",
    "print('ROC AUC:', np.round(roc_auc, 3))\n",
    "print('PRC AUC:', np.round(prc_auc, 3))"
   ]
  },
  {
   "cell_type": "code",
   "execution_count": 25,
   "id": "bf9f52ca",
   "metadata": {},
   "outputs": [
    {
     "data": {
      "image/png": "[encoded data removed]",
      "text/plain": [
       "<Figure size 1224x720 with 1 Axes>"
      ]
     },
     "metadata": {},
     "output_type": "display_data"
    },
    {
     "data": {
      "text/plain": [
       "0.7281926482853456"
      ]
     },
     "execution_count": 25,
     "metadata": {},
     "output_type": "execute_result"
    }
   ],
   "source": [
    "plot_roc_curve(y_test, catboost_proba_test)"
   ]
  },
  {
   "cell_type": "code",
   "execution_count": 28,
   "id": "0ffa7aa7",
   "metadata": {},
   "outputs": [
    {
     "data": {
      "text/html": [
       "<div>\n",
       "<style scoped>\n",
       "    .dataframe tbody tr th:only-of-type {\n",
       "        vertical-align: middle;\n",
       "    }\n",
       "\n",
       "    .dataframe tbody tr th {\n",
       "        vertical-align: top;\n",
       "    }\n",
       "\n",
       "    .dataframe thead th {\n",
       "        text-align: right;\n",
       "    }\n",
       "</style>\n",
       "<table border=\"1\" class=\"dataframe\">\n",
       "  <thead>\n",
       "    <tr style=\"text-align: right;\">\n",
       "      <th></th>\n",
       "      <th>MODEL</th>\n",
       "      <th>TOP</th>\n",
       "      <th>COUNT</th>\n",
       "      <th>F1@TOP</th>\n",
       "      <th>RECALL@TOP</th>\n",
       "      <th>PRECISION@TOP</th>\n",
       "      <th>LIFT@TOP</th>\n",
       "    </tr>\n",
       "  </thead>\n",
       "  <tbody>\n",
       "    <tr>\n",
       "      <th>0</th>\n",
       "      <td>CatBoostClassifier</td>\n",
       "      <td>1%</td>\n",
       "      <td>752</td>\n",
       "      <td>0.057</td>\n",
       "      <td>0.066</td>\n",
       "      <td>0.051</td>\n",
       "      <td>6.568</td>\n",
       "    </tr>\n",
       "    <tr>\n",
       "      <th>1</th>\n",
       "      <td>CatBoostClassifier</td>\n",
       "      <td>3%</td>\n",
       "      <td>2254</td>\n",
       "      <td>0.071</td>\n",
       "      <td>0.173</td>\n",
       "      <td>0.044</td>\n",
       "      <td>5.767</td>\n",
       "    </tr>\n",
       "    <tr>\n",
       "      <th>2</th>\n",
       "      <td>CatBoostClassifier</td>\n",
       "      <td>5%</td>\n",
       "      <td>3757</td>\n",
       "      <td>0.066</td>\n",
       "      <td>0.246</td>\n",
       "      <td>0.038</td>\n",
       "      <td>4.913</td>\n",
       "    </tr>\n",
       "    <tr>\n",
       "      <th>3</th>\n",
       "      <td>CatBoostClassifier</td>\n",
       "      <td>10%</td>\n",
       "      <td>7513</td>\n",
       "      <td>0.054</td>\n",
       "      <td>0.381</td>\n",
       "      <td>0.029</td>\n",
       "      <td>3.806</td>\n",
       "    </tr>\n",
       "    <tr>\n",
       "      <th>4</th>\n",
       "      <td>CatBoostClassifier</td>\n",
       "      <td>15%</td>\n",
       "      <td>11269</td>\n",
       "      <td>0.048</td>\n",
       "      <td>0.488</td>\n",
       "      <td>0.025</td>\n",
       "      <td>3.253</td>\n",
       "    </tr>\n",
       "    <tr>\n",
       "      <th>5</th>\n",
       "      <td>CatBoostClassifier</td>\n",
       "      <td>20%</td>\n",
       "      <td>15008</td>\n",
       "      <td>0.040</td>\n",
       "      <td>0.533</td>\n",
       "      <td>0.021</td>\n",
       "      <td>2.667</td>\n",
       "    </tr>\n",
       "    <tr>\n",
       "      <th>6</th>\n",
       "      <td>CatBoostClassifier</td>\n",
       "      <td>30%</td>\n",
       "      <td>22533</td>\n",
       "      <td>0.031</td>\n",
       "      <td>0.625</td>\n",
       "      <td>0.016</td>\n",
       "      <td>2.082</td>\n",
       "    </tr>\n",
       "    <tr>\n",
       "      <th>7</th>\n",
       "      <td>CatBoostClassifier</td>\n",
       "      <td>40%</td>\n",
       "      <td>29418</td>\n",
       "      <td>0.027</td>\n",
       "      <td>0.706</td>\n",
       "      <td>0.014</td>\n",
       "      <td>1.803</td>\n",
       "    </tr>\n",
       "    <tr>\n",
       "      <th>8</th>\n",
       "      <td>CatBoostClassifier</td>\n",
       "      <td>50%</td>\n",
       "      <td>36858</td>\n",
       "      <td>0.024</td>\n",
       "      <td>0.770</td>\n",
       "      <td>0.012</td>\n",
       "      <td>1.569</td>\n",
       "    </tr>\n",
       "    <tr>\n",
       "      <th>9</th>\n",
       "      <td>CatBoostClassifier</td>\n",
       "      <td>60%</td>\n",
       "      <td>45076</td>\n",
       "      <td>0.021</td>\n",
       "      <td>0.848</td>\n",
       "      <td>0.011</td>\n",
       "      <td>1.413</td>\n",
       "    </tr>\n",
       "    <tr>\n",
       "      <th>10</th>\n",
       "      <td>CatBoostClassifier</td>\n",
       "      <td>70%</td>\n",
       "      <td>52577</td>\n",
       "      <td>0.020</td>\n",
       "      <td>0.903</td>\n",
       "      <td>0.010</td>\n",
       "      <td>1.290</td>\n",
       "    </tr>\n",
       "    <tr>\n",
       "      <th>11</th>\n",
       "      <td>CatBoostClassifier</td>\n",
       "      <td>80%</td>\n",
       "      <td>60075</td>\n",
       "      <td>0.018</td>\n",
       "      <td>0.945</td>\n",
       "      <td>0.009</td>\n",
       "      <td>1.181</td>\n",
       "    </tr>\n",
       "    <tr>\n",
       "      <th>12</th>\n",
       "      <td>CatBoostClassifier</td>\n",
       "      <td>90%</td>\n",
       "      <td>67593</td>\n",
       "      <td>0.016</td>\n",
       "      <td>0.969</td>\n",
       "      <td>0.008</td>\n",
       "      <td>1.077</td>\n",
       "    </tr>\n",
       "    <tr>\n",
       "      <th>13</th>\n",
       "      <td>CatBoostClassifier</td>\n",
       "      <td>100%</td>\n",
       "      <td>75126</td>\n",
       "      <td>0.015</td>\n",
       "      <td>1.000</td>\n",
       "      <td>0.008</td>\n",
       "      <td>1.000</td>\n",
       "    </tr>\n",
       "  </tbody>\n",
       "</table>\n",
       "</div>"
      ],
      "text/plain": [
       "                 MODEL   TOP  COUNT  F1@TOP  RECALL@TOP  PRECISION@TOP  \\\n",
       "0   CatBoostClassifier    1%    752   0.057       0.066          0.051   \n",
       "1   CatBoostClassifier    3%   2254   0.071       0.173          0.044   \n",
       "2   CatBoostClassifier    5%   3757   0.066       0.246          0.038   \n",
       "3   CatBoostClassifier   10%   7513   0.054       0.381          0.029   \n",
       "4   CatBoostClassifier   15%  11269   0.048       0.488          0.025   \n",
       "5   CatBoostClassifier   20%  15008   0.040       0.533          0.021   \n",
       "6   CatBoostClassifier   30%  22533   0.031       0.625          0.016   \n",
       "7   CatBoostClassifier   40%  29418   0.027       0.706          0.014   \n",
       "8   CatBoostClassifier   50%  36858   0.024       0.770          0.012   \n",
       "9   CatBoostClassifier   60%  45076   0.021       0.848          0.011   \n",
       "10  CatBoostClassifier   70%  52577   0.020       0.903          0.010   \n",
       "11  CatBoostClassifier   80%  60075   0.018       0.945          0.009   \n",
       "12  CatBoostClassifier   90%  67593   0.016       0.969          0.008   \n",
       "13  CatBoostClassifier  100%  75126   0.015       1.000          0.008   \n",
       "\n",
       "    LIFT@TOP  \n",
       "0      6.568  \n",
       "1      5.767  \n",
       "2      4.913  \n",
       "3      3.806  \n",
       "4      3.253  \n",
       "5      2.667  \n",
       "6      2.082  \n",
       "7      1.803  \n",
       "8      1.569  \n",
       "9      1.413  \n",
       "10     1.290  \n",
       "11     1.181  \n",
       "12     1.077  \n",
       "13     1.000  "
      ]
     },
     "execution_count": 28,
     "metadata": {},
     "output_type": "execute_result"
    }
   ],
   "source": [
    "get_reports_pd(catboost_proba_test, y_test)"
   ]
  },
  {
   "cell_type": "code",
   "execution_count": 37,
   "id": "b6d6e9d5",
   "metadata": {},
   "outputs": [
    {
     "name": "stdout",
     "output_type": "stream",
     "text": [
      "ROC AUC: 0.728\n"
     ]
    },
    {
     "data": {
      "text/html": [
       "<div>\n",
       "<style scoped>\n",
       "    .dataframe tbody tr th:only-of-type {\n",
       "        vertical-align: middle;\n",
       "    }\n",
       "\n",
       "    .dataframe tbody tr th {\n",
       "        vertical-align: top;\n",
       "    }\n",
       "\n",
       "    .dataframe thead th {\n",
       "        text-align: right;\n",
       "    }\n",
       "</style>\n",
       "<table border=\"1\" class=\"dataframe\">\n",
       "  <thead>\n",
       "    <tr style=\"text-align: right;\">\n",
       "      <th></th>\n",
       "      <th>top 1%</th>\n",
       "      <th>top 3%</th>\n",
       "      <th>top 5%</th>\n",
       "      <th>top 10%</th>\n",
       "      <th>top 15%</th>\n",
       "      <th>top 20%</th>\n",
       "      <th>top 30%</th>\n",
       "      <th>top 40%</th>\n",
       "      <th>top 50%</th>\n",
       "      <th>top 60%</th>\n",
       "      <th>top 70%</th>\n",
       "      <th>top 80%</th>\n",
       "      <th>top 90%</th>\n",
       "      <th>top 100%</th>\n",
       "    </tr>\n",
       "  </thead>\n",
       "  <tbody>\n",
       "    <tr>\n",
       "      <th>LIFT</th>\n",
       "      <td>6.568</td>\n",
       "      <td>5.767</td>\n",
       "      <td>4.913</td>\n",
       "      <td>3.806</td>\n",
       "      <td>3.253</td>\n",
       "      <td>2.667</td>\n",
       "      <td>2.082</td>\n",
       "      <td>1.803</td>\n",
       "      <td>1.569</td>\n",
       "      <td>1.413</td>\n",
       "      <td>1.29</td>\n",
       "      <td>1.181</td>\n",
       "      <td>1.077</td>\n",
       "      <td>1.0</td>\n",
       "    </tr>\n",
       "    <tr>\n",
       "      <th>PRECISION</th>\n",
       "      <td>0.051</td>\n",
       "      <td>0.044</td>\n",
       "      <td>0.038</td>\n",
       "      <td>0.029</td>\n",
       "      <td>0.025</td>\n",
       "      <td>0.021</td>\n",
       "      <td>0.016</td>\n",
       "      <td>0.014</td>\n",
       "      <td>0.012</td>\n",
       "      <td>0.011</td>\n",
       "      <td>0.01</td>\n",
       "      <td>0.009</td>\n",
       "      <td>0.008</td>\n",
       "      <td>0.008</td>\n",
       "    </tr>\n",
       "    <tr>\n",
       "      <th>RECALL</th>\n",
       "      <td>0.066</td>\n",
       "      <td>0.173</td>\n",
       "      <td>0.246</td>\n",
       "      <td>0.381</td>\n",
       "      <td>0.488</td>\n",
       "      <td>0.533</td>\n",
       "      <td>0.625</td>\n",
       "      <td>0.706</td>\n",
       "      <td>0.77</td>\n",
       "      <td>0.848</td>\n",
       "      <td>0.903</td>\n",
       "      <td>0.945</td>\n",
       "      <td>0.969</td>\n",
       "      <td>1.0</td>\n",
       "    </tr>\n",
       "    <tr>\n",
       "      <th>COUNT</th>\n",
       "      <td>752</td>\n",
       "      <td>2254</td>\n",
       "      <td>3757</td>\n",
       "      <td>7513</td>\n",
       "      <td>11269</td>\n",
       "      <td>15008</td>\n",
       "      <td>22533</td>\n",
       "      <td>29418</td>\n",
       "      <td>36858</td>\n",
       "      <td>45076</td>\n",
       "      <td>52577</td>\n",
       "      <td>60075</td>\n",
       "      <td>67593</td>\n",
       "      <td>75126</td>\n",
       "    </tr>\n",
       "  </tbody>\n",
       "</table>\n",
       "</div>"
      ],
      "text/plain": [
       "          top 1% top 3% top 5% top 10% top 15% top 20% top 30% top 40%  \\\n",
       "LIFT       6.568  5.767  4.913   3.806   3.253   2.667   2.082   1.803   \n",
       "PRECISION  0.051  0.044  0.038   0.029   0.025   0.021   0.016   0.014   \n",
       "RECALL     0.066  0.173  0.246   0.381   0.488   0.533   0.625   0.706   \n",
       "COUNT        752   2254   3757    7513   11269   15008   22533   29418   \n",
       "\n",
       "          top 50% top 60% top 70% top 80% top 90% top 100%  \n",
       "LIFT        1.569   1.413    1.29   1.181   1.077      1.0  \n",
       "PRECISION   0.012   0.011    0.01   0.009   0.008    0.008  \n",
       "RECALL       0.77   0.848   0.903   0.945   0.969      1.0  \n",
       "COUNT       36858   45076   52577   60075   67593    75126  "
      ]
     },
     "execution_count": 37,
     "metadata": {},
     "output_type": "execute_result"
    }
   ],
   "source": [
    "get_reports(catboost_proba_test, y_test)"
   ]
  },
  {
   "cell_type": "code",
   "execution_count": 39,
   "id": "0219301f",
   "metadata": {},
   "outputs": [
    {
     "data": {
      "text/plain": [
       "['amplitude_id',\n",
       " 'target_month',\n",
       " 'explain_errors_sum_20',\n",
       " 'explain_errors_avg_20',\n",
       " 'explain_errors_min_20',\n",
       " 'explain_errors_max_20',\n",
       " 'explain_errors_std_20',\n",
       " 'favorites_count_sum_20',\n",
       " 'favorites_count_avg_20',\n",
       " 'favorites_count_min_20',\n",
       " 'favorites_count_max_20',\n",
       " 'favorites_count_std_20',\n",
       " 'hazard_progress_sum_20',\n",
       " 'hazard_progress_avg_20',\n",
       " 'hazard_progress_min_20',\n",
       " 'hazard_progress_max_20',\n",
       " 'hazard_progress_std_20',\n",
       " 'hazard_solved_sum_20',\n",
       " 'hazard_solved_avg_20',\n",
       " 'hazard_solved_min_20',\n",
       " 'hazard_solved_max_20',\n",
       " 'hazard_solved_std_20',\n",
       " 'percent_solved_sum_20',\n",
       " 'percent_solved_avg_20',\n",
       " 'percent_solved_min_20',\n",
       " 'percent_solved_max_20',\n",
       " 'percent_solved_std_20',\n",
       " 'cohort_day_sum_20',\n",
       " 'cohort_day_avg_20',\n",
       " 'cohort_day_min_20',\n",
       " 'cohort_day_max_20',\n",
       " 'cohort_day_std_20',\n",
       " 'cohort_week_sum_20',\n",
       " 'cohort_week_avg_20',\n",
       " 'cohort_week_min_20',\n",
       " 'cohort_week_max_20',\n",
       " 'cohort_week_std_20',\n",
       " 'cohort_month_sum_20',\n",
       " 'cohort_month_avg_20',\n",
       " 'cohort_month_min_20',\n",
       " 'cohort_month_max_20',\n",
       " 'cohort_month_std_20',\n",
       " 'cohort_year_sum_20',\n",
       " 'cohort_year_avg_20',\n",
       " 'cohort_year_min_20',\n",
       " 'cohort_year_max_20',\n",
       " 'cohort_year_std_20',\n",
       " 'app_sum_20',\n",
       " 'app_avg_20',\n",
       " 'app_min_20',\n",
       " 'app_max_20',\n",
       " 'app_std_20',\n",
       " 'session_id_sum_20',\n",
       " 'session_id_avg_20',\n",
       " 'session_id_min_20',\n",
       " 'session_id_max_20',\n",
       " 'session_id_std_20',\n",
       " 'lat_rad_sum_20',\n",
       " 'lat_rad_avg_20',\n",
       " 'lat_rad_min_20',\n",
       " 'lat_rad_max_20',\n",
       " 'lng_rad_sum_20',\n",
       " 'lng_rad_avg_20',\n",
       " 'lng_rad_min_20',\n",
       " 'lng_rad_max_20',\n",
       " 'distance_sum_20',\n",
       " 'distance_avg_20',\n",
       " 'distance_min_20',\n",
       " 'distance_max_20',\n",
       " 'city_mode_20',\n",
       " 'region_mode_20',\n",
       " 'country_mode_20',\n",
       " 'device_family_mode_20',\n",
       " 'os_name_mode_20',\n",
       " 'push_permission_mode_20',\n",
       " 'ip_address_mode_20',\n",
       " 'language_mode_20',\n",
       " 'event_type_mode_20',\n",
       " 'explain_errors_sum_30',\n",
       " 'explain_errors_avg_30',\n",
       " 'explain_errors_min_30',\n",
       " 'explain_errors_max_30',\n",
       " 'explain_errors_std_30',\n",
       " 'favorites_count_sum_30',\n",
       " 'favorites_count_avg_30',\n",
       " 'favorites_count_min_30',\n",
       " 'favorites_count_max_30',\n",
       " 'favorites_count_std_30',\n",
       " 'hazard_progress_sum_30',\n",
       " 'hazard_progress_avg_30',\n",
       " 'hazard_progress_min_30',\n",
       " 'hazard_progress_max_30',\n",
       " 'hazard_progress_std_30',\n",
       " 'hazard_solved_sum_30',\n",
       " 'hazard_solved_avg_30',\n",
       " 'hazard_solved_min_30',\n",
       " 'hazard_solved_max_30',\n",
       " 'hazard_solved_std_30',\n",
       " 'percent_solved_sum_30',\n",
       " 'percent_solved_avg_30',\n",
       " 'percent_solved_min_30',\n",
       " 'percent_solved_max_30',\n",
       " 'percent_solved_std_30',\n",
       " 'right_answers_sum_30',\n",
       " 'right_answers_avg_30',\n",
       " 'right_answers_min_30',\n",
       " 'right_answers_max_30',\n",
       " 'right_answers_std_30',\n",
       " 'wrong_answers_sum_30',\n",
       " 'wrong_answers_avg_30',\n",
       " 'wrong_answers_min_30',\n",
       " 'wrong_answers_max_30',\n",
       " 'wrong_answers_std_30',\n",
       " 'cohort_day_sum_30',\n",
       " 'cohort_day_avg_30',\n",
       " 'cohort_day_min_30',\n",
       " 'cohort_day_max_30',\n",
       " 'cohort_day_std_30',\n",
       " 'cohort_week_sum_30',\n",
       " 'cohort_week_avg_30',\n",
       " 'cohort_week_min_30',\n",
       " 'cohort_week_max_30',\n",
       " 'cohort_week_std_30',\n",
       " 'cohort_month_sum_30',\n",
       " 'cohort_month_avg_30',\n",
       " 'cohort_month_min_30',\n",
       " 'cohort_month_max_30',\n",
       " 'cohort_month_std_30',\n",
       " 'cohort_year_sum_30',\n",
       " 'cohort_year_avg_30',\n",
       " 'cohort_year_min_30',\n",
       " 'cohort_year_max_30',\n",
       " 'cohort_year_std_30',\n",
       " 'app_sum_30',\n",
       " 'app_avg_30',\n",
       " 'app_min_30',\n",
       " 'app_max_30',\n",
       " 'app_std_30',\n",
       " 'session_id_sum_30',\n",
       " 'session_id_avg_30',\n",
       " 'session_id_min_30',\n",
       " 'session_id_max_30',\n",
       " 'session_id_std_30',\n",
       " 'time_sum_30',\n",
       " 'time_avg_30',\n",
       " 'time_min_30',\n",
       " 'time_max_30',\n",
       " 'time_std_30',\n",
       " 'lat_rad_sum_30',\n",
       " 'lat_rad_avg_30',\n",
       " 'lat_rad_min_30',\n",
       " 'lat_rad_max_30',\n",
       " 'lat_rad_std_30',\n",
       " 'lng_rad_sum_30',\n",
       " 'lng_rad_avg_30',\n",
       " 'lng_rad_min_30',\n",
       " 'lng_rad_max_30',\n",
       " 'lng_rad_std_30',\n",
       " 'distance_sum_30',\n",
       " 'distance_avg_30',\n",
       " 'distance_min_30',\n",
       " 'distance_max_30',\n",
       " 'distance_std_30',\n",
       " 'city_mode_30',\n",
       " 'region_mode_30',\n",
       " 'country_mode_30',\n",
       " 'device_family_mode_30',\n",
       " 'os_name_mode_30',\n",
       " 'push_permission_mode_30',\n",
       " 'ip_address_mode_30',\n",
       " 'language_mode_30',\n",
       " 'event_type_mode_30',\n",
       " 'count_20',\n",
       " 'event_type_count_distinct_20',\n",
       " 'count_30',\n",
       " 'event_type_count_distinct_30',\n",
       " 'count_60',\n",
       " 'event_type_count_distinct_60',\n",
       " 'explain_errors_sum_60',\n",
       " 'explain_errors_avg_60',\n",
       " 'explain_errors_min_60',\n",
       " 'explain_errors_max_60',\n",
       " 'explain_errors_std_60',\n",
       " 'favorites_count_sum_60',\n",
       " 'favorites_count_avg_60',\n",
       " 'favorites_count_min_60',\n",
       " 'favorites_count_max_60',\n",
       " 'favorites_count_std_60',\n",
       " 'hazard_progress_sum_60',\n",
       " 'hazard_progress_avg_60',\n",
       " 'hazard_progress_min_60',\n",
       " 'hazard_progress_max_60',\n",
       " 'hazard_progress_std_60',\n",
       " 'hazard_solved_sum_60',\n",
       " 'hazard_solved_avg_60',\n",
       " 'hazard_solved_min_60',\n",
       " 'hazard_solved_max_60',\n",
       " 'hazard_solved_std_60',\n",
       " 'percent_solved_sum_60',\n",
       " 'percent_solved_avg_60',\n",
       " 'percent_solved_min_60',\n",
       " 'percent_solved_max_60',\n",
       " 'percent_solved_std_60',\n",
       " 'right_answers_sum_60',\n",
       " 'right_answers_avg_60',\n",
       " 'right_answers_min_60',\n",
       " 'right_answers_max_60',\n",
       " 'right_answers_std_60',\n",
       " 'wrong_answers_sum_60',\n",
       " 'wrong_answers_avg_60',\n",
       " 'wrong_answers_min_60',\n",
       " 'wrong_answers_max_60',\n",
       " 'wrong_answers_std_60',\n",
       " 'cohort_day_sum_60',\n",
       " 'cohort_day_avg_60',\n",
       " 'cohort_day_min_60',\n",
       " 'cohort_day_max_60',\n",
       " 'cohort_day_std_60',\n",
       " 'cohort_week_sum_60',\n",
       " 'cohort_week_avg_60',\n",
       " 'cohort_week_min_60',\n",
       " 'cohort_week_max_60',\n",
       " 'cohort_week_std_60',\n",
       " 'cohort_month_sum_60',\n",
       " 'cohort_month_avg_60',\n",
       " 'cohort_month_min_60',\n",
       " 'cohort_month_max_60',\n",
       " 'cohort_month_std_60',\n",
       " 'cohort_year_sum_60',\n",
       " 'cohort_year_avg_60',\n",
       " 'cohort_year_min_60',\n",
       " 'cohort_year_max_60',\n",
       " 'cohort_year_std_60',\n",
       " 'app_sum_60',\n",
       " 'app_avg_60',\n",
       " 'app_min_60',\n",
       " 'app_max_60',\n",
       " 'app_std_60',\n",
       " 'session_id_sum_60',\n",
       " 'session_id_avg_60',\n",
       " 'session_id_min_60',\n",
       " 'session_id_max_60',\n",
       " 'session_id_std_60',\n",
       " 'time_sum_60',\n",
       " 'time_avg_60',\n",
       " 'time_min_60',\n",
       " 'time_max_60',\n",
       " 'time_std_60',\n",
       " 'lat_rad_sum_60',\n",
       " 'lat_rad_avg_60',\n",
       " 'lat_rad_min_60',\n",
       " 'lat_rad_max_60',\n",
       " 'lat_rad_std_60',\n",
       " 'lng_rad_sum_60',\n",
       " 'lng_rad_avg_60',\n",
       " 'lng_rad_min_60',\n",
       " 'lng_rad_max_60',\n",
       " 'lng_rad_std_60',\n",
       " 'distance_sum_60',\n",
       " 'distance_avg_60',\n",
       " 'distance_min_60',\n",
       " 'distance_max_60',\n",
       " 'distance_std_60',\n",
       " 'city_mode_60',\n",
       " 'region_mode_60',\n",
       " 'country_mode_60',\n",
       " 'device_family_mode_60',\n",
       " 'os_name_mode_60',\n",
       " 'push_permission_mode_60',\n",
       " 'ip_address_mode_60',\n",
       " 'language_mode_60',\n",
       " 'event_type_mode_60']"
      ]
     },
     "execution_count": 39,
     "metadata": {},
     "output_type": "execute_result"
    }
   ],
   "source": [
    "X_test.columns.to_list()"
   ]
  },
  {
   "cell_type": "code",
   "execution_count": 40,
   "id": "2d3210f1",
   "metadata": {},
   "outputs": [
    {
     "data": {
      "text/plain": [
       "(75127, 272)"
      ]
     },
     "execution_count": 40,
     "metadata": {},
     "output_type": "execute_result"
    }
   ],
   "source": [
    "X_test.shape"
   ]
  },
  {
   "cell_type": "code",
   "execution_count": 41,
   "id": "c7737895",
   "metadata": {},
   "outputs": [
    {
     "data": {
      "text/plain": [
       "585651    2023-07-01\n",
       "99837     2023-01-01\n",
       "15373     2023-02-01\n",
       "693381    2022-06-01\n",
       "248029    2023-03-01\n",
       "             ...    \n",
       "427547    2023-01-01\n",
       "486538    2023-06-01\n",
       "509902    2022-06-01\n",
       "203069    2023-07-01\n",
       "141998    2022-08-01\n",
       "Name: target_month, Length: 53825, dtype: object"
      ]
     },
     "execution_count": 41,
     "metadata": {},
     "output_type": "execute_result"
    }
   ],
   "source": [
    "X_train.target_month"
   ]
  },
  {
   "cell_type": "code",
   "execution_count": 43,
   "id": "f7e1fe25",
   "metadata": {},
   "outputs": [
    {
     "data": {
      "text/plain": [
       "138254    2023-08-01\n",
       "34097     2023-08-01\n",
       "351322    2023-08-01\n",
       "309560    2023-08-01\n",
       "266911    2023-08-01\n",
       "             ...    \n",
       "398148    2023-08-01\n",
       "448375    2023-08-01\n",
       "359434    2023-08-01\n",
       "127810    2023-08-01\n",
       "404704    2023-08-01\n",
       "Name: target_month, Length: 10187, dtype: object"
      ]
     },
     "execution_count": 43,
     "metadata": {},
     "output_type": "execute_result"
    }
   ],
   "source": [
    "X_valid.target_month"
   ]
  },
  {
   "cell_type": "code",
   "execution_count": 42,
   "id": "e94b19d6",
   "metadata": {},
   "outputs": [
    {
     "data": {
      "text/plain": [
       "27        2023-09-01\n",
       "35        2023-09-01\n",
       "40        2023-09-01\n",
       "103       2023-09-01\n",
       "121       2023-09-01\n",
       "             ...    \n",
       "766151    2023-09-01\n",
       "766204    2023-09-01\n",
       "766293    2023-09-01\n",
       "766331    2023-09-01\n",
       "768605    2023-09-01\n",
       "Name: target_month, Length: 75127, dtype: object"
      ]
     },
     "execution_count": 42,
     "metadata": {},
     "output_type": "execute_result"
    }
   ],
   "source": [
    "X_test.target_month"
   ]
  },
  {
   "cell_type": "code",
   "execution_count": null,
   "id": "68071e11",
   "metadata": {},
   "outputs": [],
   "source": []
  },
  {
   "cell_type": "code",
   "execution_count": null,
   "id": "530e9f98",
   "metadata": {},
   "outputs": [],
   "source": []
  },
  {
   "cell_type": "code",
   "execution_count": null,
   "id": "ebf6d026",
   "metadata": {},
   "outputs": [],
   "source": []
  },
  {
   "cell_type": "markdown",
   "id": "d674db16",
   "metadata": {},
   "source": [
    "## matrix"
   ]
  },
  {
   "cell_type": "code",
   "execution_count": 68,
   "id": "32037506",
   "metadata": {},
   "outputs": [
    {
     "data": {
      "text/plain": [
       "array([[69404,  5145],\n",
       "       [  400,   178]])"
      ]
     },
     "execution_count": 68,
     "metadata": {},
     "output_type": "execute_result"
    }
   ],
   "source": [
    "conf_matrix = confusion_matrix(y_test, catboost_pred_test)\n",
    "conf_matrix"
   ]
  },
  {
   "cell_type": "code",
   "execution_count": 69,
   "id": "2bb5b720",
   "metadata": {},
   "outputs": [
    {
     "name": "stdout",
     "output_type": "stream",
     "text": [
      "Confusion Matrix (Tabular):\n",
      "          Predicted 0  Predicted 1\n",
      "Actual 0        69404         5145\n",
      "Actual 1          400          178\n"
     ]
    },
    {
     "data": {
      "image/png": "[encoded data removed]",
      "text/plain": [
       "<Figure size 576x432 with 2 Axes>"
      ]
     },
     "metadata": {},
     "output_type": "display_data"
    }
   ],
   "source": [
    "conf_matrix_df = pd.DataFrame(conf_matrix, index=['Actual 0', 'Actual 1'], columns=['Predicted 0', 'Predicted 1'])\n",
    "print(\"Confusion Matrix (Tabular):\")\n",
    "print(conf_matrix_df)\n",
    "\n",
    "# Using seaborn and matplotlib for graphical visualization\n",
    "plt.figure(figsize=(8, 6))\n",
    "sns.heatmap(conf_matrix, annot=True, fmt='d', cmap='Blues', xticklabels=['Predicted 0', 'Predicted 1'], yticklabels=['Actual 0', 'Actual 1'])\n",
    "plt.xlabel('Predicted Labels')\n",
    "plt.ylabel('Actual Labels')\n",
    "plt.title('Confusion Matrix')\n",
    "plt.show()"
   ]
  },
  {
   "cell_type": "code",
   "execution_count": null,
   "id": "b8a784c0",
   "metadata": {},
   "outputs": [],
   "source": []
  },
  {
   "cell_type": "code",
   "execution_count": null,
   "id": "54022842",
   "metadata": {},
   "outputs": [],
   "source": []
  },
  {
   "cell_type": "code",
   "execution_count": null,
   "id": "b98d4e57",
   "metadata": {},
   "outputs": [],
   "source": []
  },
  {
   "cell_type": "code",
   "execution_count": null,
   "id": "5fc4e8f9",
   "metadata": {},
   "outputs": [],
   "source": []
  },
  {
   "cell_type": "code",
   "execution_count": 62,
   "id": "7199cbf3",
   "metadata": {},
   "outputs": [
    {
     "data": {
      "text/plain": [
       "(75127, 272)"
      ]
     },
     "execution_count": 62,
     "metadata": {},
     "output_type": "execute_result"
    }
   ],
   "source": [
    "X_test.shape"
   ]
  },
  {
   "cell_type": "markdown",
   "id": "d80ad9bf",
   "metadata": {},
   "source": [
    "## SHAP"
   ]
  },
  {
   "cell_type": "code",
   "execution_count": 26,
   "id": "7762fdcd",
   "metadata": {},
   "outputs": [
    {
     "data": {
      "image/png": "[encoded data removed]",
      "text/plain": [
       "<Figure size 576x684 with 2 Axes>"
      ]
     },
     "metadata": {},
     "output_type": "display_data"
    },
    {
     "name": "stdout",
     "output_type": "stream",
     "text": [
      "CPU times: user 31.1 s, sys: 5.69 s, total: 36.8 s\n",
      "Wall time: 13.2 s\n"
     ]
    }
   ],
   "source": [
    "%%time\n",
    "explainer = shap.TreeExplainer(catboost)\n",
    "shap_values = explainer.shap_values(X_test)\n",
    "shap.summary_plot(shap_values, X_test, plot_type='dot') # use this easier"
   ]
  },
  {
   "cell_type": "code",
   "execution_count": 28,
   "id": "87c7c935",
   "metadata": {},
   "outputs": [
    {
     "data": {
      "image/png": "[encoded data removed]",
      "text/plain": [
       "<Figure size 864x576 with 1 Axes>"
      ]
     },
     "metadata": {},
     "output_type": "display_data"
    },
    {
     "name": "stdout",
     "output_type": "stream",
     "text": [
      "CPU times: user 304 ms, sys: 228 ms, total: 532 ms\n",
      "Wall time: 258 ms\n"
     ]
    }
   ],
   "source": [
    "%%time\n",
    "feature_importance = catboost.get_feature_importance()\n",
    "feature_names = X_train.columns\n",
    "sorted_feature_importance = sorted(zip(feature_names, feature_importance), key=lambda x: x[1], reverse=True)\n",
    "\n",
    "top_40_features = [feature for feature, importance in sorted_feature_importance[:20]]\n",
    "top_40_importance = [importance for feature, importance in sorted_feature_importance[:20]]\n",
    "\n",
    "plt.figure(figsize=(12, 8))\n",
    "plt.barh(top_40_features, top_40_importance, color=color[0]) # '#74197f','#14b956'\n",
    "plt.xlabel('Feature Importance')\n",
    "plt.ylabel('Feature')\n",
    "plt.title('Top Features Importance')\n",
    "plt.gca().invert_yaxis()  # Invert y-axis to display the most important features at the top\n",
    "plt.show()"
   ]
  },
  {
   "cell_type": "markdown",
   "id": "4a84f580",
   "metadata": {},
   "source": [
    "-----------------"
   ]
  },
  {
   "cell_type": "code",
   "execution_count": 91,
   "id": "89182a3e",
   "metadata": {},
   "outputs": [],
   "source": [
    "results_df = pd.DataFrame({\n",
    "    'Real Label': y_test,\n",
    "    'Predicted Probability': catboost_proba_test,\n",
    "    'Predicted Label': catboost_pred_test,\n",
    "})\n",
    "\n",
    "\n",
    "results_df = results_df.sort_values(by = ['Predicted Probability'], ascending = False)\n",
    "model_200 = results_df.head(2000)"
   ]
  },
  {
   "cell_type": "code",
   "execution_count": 92,
   "id": "71436d55",
   "metadata": {},
   "outputs": [
    {
     "name": "stdout",
     "output_type": "stream",
     "text": [
      "Accuracy: 0.044\n",
      "Balanced accuracy: 0.5\n",
      "Average precision: 0.059\n",
      "Recall: 1.0\n",
      "Precision: 0.044\n",
      "F1: 0.084\n",
      "ROC AUC: 0.537\n",
      "PRC AUC: 0.056\n"
     ]
    }
   ],
   "source": [
    "y_test_model, catboost_pred_test_model, catboost_proba_test_model = model_200['Real Label'], model_200['Predicted Label'], model_200['Predicted Probability']\n",
    "accuracy = accuracy_score(y_test_model, catboost_pred_test_model)\n",
    "balanced_accuracy = balanced_accuracy_score(y_test_model, catboost_pred_test_model)\n",
    "average_precision = average_precision_score(y_test_model, catboost_proba_test_model)\n",
    "recall = recall_score(y_test_model, catboost_pred_test_model)\n",
    "precision = precision_score(y_test_model, catboost_pred_test_model)\n",
    "roc_auc = roc_auc_score(y_test_model, catboost_proba_test_model)\n",
    "f1 = f1_score(y_test_model, catboost_pred_test_model)\n",
    "\n",
    "precision_points, recall_points, _ = precision_recall_curve(y_test_model, catboost_proba_test_model) \n",
    "prc_auc = auc(recall_points, precision_points)\n",
    "\n",
    "print('Accuracy:', np.round(accuracy, 3))\n",
    "print('Balanced accuracy:', np.round(balanced_accuracy, 3))\n",
    "print('Average precision:', np.round(average_precision, 3))\n",
    "print('Recall:', np.round(recall, 3))\n",
    "print('Precision:', np.round(precision, 3))\n",
    "print('F1:', np.round(f1, 3))\n",
    "print('ROC AUC:', np.round(roc_auc, 3))\n",
    "print('PRC AUC:', np.round(prc_auc, 3))"
   ]
  },
  {
   "cell_type": "markdown",
   "id": "08f7021d",
   "metadata": {},
   "source": [
    "-------"
   ]
  },
  {
   "cell_type": "code",
   "execution_count": 94,
   "id": "bc422f78",
   "metadata": {},
   "outputs": [],
   "source": [
    "results_df = pd.DataFrame({\n",
    "    'Real Label': y_test,\n",
    "    'Predicted Probability': catboost_proba_test,\n",
    "    'Predicted Label': catboost_pred_test,\n",
    "})"
   ]
  },
  {
   "cell_type": "code",
   "execution_count": 95,
   "id": "28457472",
   "metadata": {},
   "outputs": [
    {
     "data": {
      "application/vnd.jupyter.widget-view+json": {
       "model_id": "716c252a53e34078b95f04172609a002",
       "version_major": 2,
       "version_minor": 0
      },
      "text/plain": [
       "  0%|          | 0/1000 [00:00<?, ?it/s]"
      ]
     },
     "metadata": {},
     "output_type": "display_data"
    }
   ],
   "source": [
    "metrics_list = []\n",
    "for i in tqdm(range(1000)):\n",
    "    \n",
    "    random_200 = results_df.sample(2000) #SEED = np.random)\n",
    "    metrics_dict = {}\n",
    "\n",
    "    y_test_random, catboost_pred_test_random, catboost_proba_test_random = random_200['Real Label'], random_200['Predicted Label'], random_200['Predicted Probability']\n",
    "#     accuracy = accuracy_score(y_test_random, catboost_pred_test_random)\n",
    "#     balanced_accuracy = balanced_accuracy_score(y_test_random, catboost_pred_test_random)\n",
    "    average_precision = average_precision_score(y_test_random, catboost_proba_test_random)\n",
    "    recall = recall_score(y_test_random, catboost_pred_test_random)\n",
    "    precision = precision_score(y_test_random, catboost_pred_test_random)\n",
    "#     roc_auc = roc_auc_score(y_test_random, catboost_proba_test_random)\n",
    "    f1 = f1_score(y_test_random, catboost_pred_test_random)\n",
    "\n",
    "    precision_points, recall_points, _ = precision_recall_curve(y_test_random, catboost_proba_test_random) \n",
    "    prc_auc = auc(recall_points, precision_points)\n",
    "    \n",
    "    metrics_dict['average_precision'] = average_precision\n",
    "    metrics_dict['recall'] = recall\n",
    "    metrics_dict['precision'] = precision\n",
    "    metrics_dict['f1'] = f1\n",
    "    \n",
    "    metrics_list.append(metrics_dict)\n",
    "    \n",
    "#     print('Accuracy:', np.round(accuracy, 3))\n",
    "#     print('Balanced accuracy:', np.round(balanced_accuracy, 3))\n",
    "#     print('Average precision:', np.round(average_precision, 3))\n",
    "#     print('Recall:', np.round(recall, 3))\n",
    "#     print('Precision:', np.round(precision, 3))\n",
    "#     print('F1:', np.round(f1, 3))\n",
    "#     print('ROC AUC:', np.round(roc_auc, 3))\n",
    "#     print('PRC AUC:', np.round(prc_auc, 3))"
   ]
  },
  {
   "cell_type": "code",
   "execution_count": 70,
   "id": "4b458f60",
   "metadata": {},
   "outputs": [],
   "source": []
  },
  {
   "cell_type": "code",
   "execution_count": 104,
   "id": "7104995e",
   "metadata": {},
   "outputs": [
    {
     "name": "stdout",
     "output_type": "stream",
     "text": [
      "precision better in random: 0.215\n",
      "recall better in random: 0.0\n",
      "f1 better in random: 0.166\n",
      "average precision better in random: 0.218\n"
     ]
    }
   ],
   "source": [
    "metrics_pd = pd.DataFrame(metrics_list)\n",
    "\n",
    "metrics_pd['average_precision_model'] = 0.059\n",
    "metrics_pd['recall_model'] = 1\n",
    "metrics_pd['precision_model'] = 0.044\n",
    "metrics_pd['f1_model'] = 0.084\n",
    "\n",
    "metrics_pd['precision_check'] = metrics_pd['precision'] > metrics_pd['precision_model']\n",
    "metrics_pd['recall_check'] = metrics_pd['recall'] > metrics_pd['recall_model']\n",
    "metrics_pd['f1_check'] = metrics_pd['f1'] > metrics_pd['f1_model']\n",
    "metrics_pd['average_precision_check'] = metrics_pd['average_precision'] > metrics_pd['average_precision_model']\n",
    "\n",
    "print('precision better in random:', metrics_pd['precision_check'].mean())\n",
    "print('recall better in random:', metrics_pd['recall_check'].mean())\n",
    "print('f1 better in random:', metrics_pd['f1_check'].mean())\n",
    "print('average precision better in random:', metrics_pd['average_precision_check'].mean())"
   ]
  },
  {
   "cell_type": "code",
   "execution_count": 105,
   "id": "1c96b940",
   "metadata": {},
   "outputs": [
    {
     "name": "stdout",
     "output_type": "stream",
     "text": [
      "precision better in random: 0.215\n",
      "recall better in random: 0.0\n",
      "f1 better in random: 0.166\n",
      "average precision better in random: 0.218\n"
     ]
    }
   ],
   "source": [
    "metrics_pd = pd.DataFrame(metrics_list)\n",
    "\n",
    "metrics_pd['average_precision_model'] = 0.059\n",
    "metrics_pd['recall_model'] = 1\n",
    "metrics_pd['precision_model'] = 0.044\n",
    "metrics_pd['f1_model'] = 0.084\n",
    "\n",
    "metrics_pd['precision_check'] = metrics_pd['precision'] > metrics_pd['precision_model']\n",
    "metrics_pd['recall_check'] = metrics_pd['recall'] > metrics_pd['recall_model']\n",
    "metrics_pd['f1_check'] = metrics_pd['f1'] > metrics_pd['f1_model']\n",
    "metrics_pd['average_precision_check'] = metrics_pd['average_precision'] > metrics_pd['average_precision_model']\n",
    "\n",
    "print('precision better in random:', metrics_pd['precision_check'].mean())\n",
    "print('recall better in random:', metrics_pd['recall_check'].mean())\n",
    "print('f1 better in random:', metrics_pd['f1_check'].mean())\n",
    "print('average precision better in random:', metrics_pd['average_precision_check'].mean())"
   ]
  },
  {
   "cell_type": "code",
   "execution_count": null,
   "id": "90ba0525",
   "metadata": {},
   "outputs": [],
   "source": []
  },
  {
   "cell_type": "code",
   "execution_count": 107,
   "id": "ed8480cf",
   "metadata": {},
   "outputs": [
    {
     "data": {
      "text/html": [
       "<div>\n",
       "<style scoped>\n",
       "    .dataframe tbody tr th:only-of-type {\n",
       "        vertical-align: middle;\n",
       "    }\n",
       "\n",
       "    .dataframe tbody tr th {\n",
       "        vertical-align: top;\n",
       "    }\n",
       "\n",
       "    .dataframe thead th {\n",
       "        text-align: right;\n",
       "    }\n",
       "</style>\n",
       "<table border=\"1\" class=\"dataframe\">\n",
       "  <thead>\n",
       "    <tr style=\"text-align: right;\">\n",
       "      <th></th>\n",
       "      <th>average_precision</th>\n",
       "      <th>average_precision_model</th>\n",
       "      <th>recall</th>\n",
       "      <th>recall_model</th>\n",
       "      <th>precision</th>\n",
       "      <th>precision_model</th>\n",
       "      <th>f1</th>\n",
       "      <th>f1_model</th>\n",
       "    </tr>\n",
       "  </thead>\n",
       "  <tbody>\n",
       "    <tr>\n",
       "      <th>1</th>\n",
       "      <td>0.040360</td>\n",
       "      <td>0.059</td>\n",
       "      <td>0.571429</td>\n",
       "      <td>1</td>\n",
       "      <td>0.053333</td>\n",
       "      <td>0.044</td>\n",
       "      <td>0.097561</td>\n",
       "      <td>0.084</td>\n",
       "    </tr>\n",
       "    <tr>\n",
       "      <th>7</th>\n",
       "      <td>0.053272</td>\n",
       "      <td>0.059</td>\n",
       "      <td>0.333333</td>\n",
       "      <td>1</td>\n",
       "      <td>0.050955</td>\n",
       "      <td>0.044</td>\n",
       "      <td>0.088398</td>\n",
       "      <td>0.084</td>\n",
       "    </tr>\n",
       "    <tr>\n",
       "      <th>10</th>\n",
       "      <td>0.034924</td>\n",
       "      <td>0.059</td>\n",
       "      <td>0.400000</td>\n",
       "      <td>1</td>\n",
       "      <td>0.056738</td>\n",
       "      <td>0.044</td>\n",
       "      <td>0.099379</td>\n",
       "      <td>0.084</td>\n",
       "    </tr>\n",
       "    <tr>\n",
       "      <th>12</th>\n",
       "      <td>0.039738</td>\n",
       "      <td>0.059</td>\n",
       "      <td>0.315789</td>\n",
       "      <td>1</td>\n",
       "      <td>0.044118</td>\n",
       "      <td>0.044</td>\n",
       "      <td>0.077419</td>\n",
       "      <td>0.084</td>\n",
       "    </tr>\n",
       "    <tr>\n",
       "      <th>17</th>\n",
       "      <td>0.038461</td>\n",
       "      <td>0.059</td>\n",
       "      <td>0.437500</td>\n",
       "      <td>1</td>\n",
       "      <td>0.045455</td>\n",
       "      <td>0.044</td>\n",
       "      <td>0.082353</td>\n",
       "      <td>0.084</td>\n",
       "    </tr>\n",
       "    <tr>\n",
       "      <th>...</th>\n",
       "      <td>...</td>\n",
       "      <td>...</td>\n",
       "      <td>...</td>\n",
       "      <td>...</td>\n",
       "      <td>...</td>\n",
       "      <td>...</td>\n",
       "      <td>...</td>\n",
       "      <td>...</td>\n",
       "    </tr>\n",
       "    <tr>\n",
       "      <th>976</th>\n",
       "      <td>0.048009</td>\n",
       "      <td>0.059</td>\n",
       "      <td>0.315789</td>\n",
       "      <td>1</td>\n",
       "      <td>0.044776</td>\n",
       "      <td>0.044</td>\n",
       "      <td>0.078431</td>\n",
       "      <td>0.084</td>\n",
       "    </tr>\n",
       "    <tr>\n",
       "      <th>977</th>\n",
       "      <td>0.065735</td>\n",
       "      <td>0.059</td>\n",
       "      <td>0.571429</td>\n",
       "      <td>1</td>\n",
       "      <td>0.056738</td>\n",
       "      <td>0.044</td>\n",
       "      <td>0.103226</td>\n",
       "      <td>0.084</td>\n",
       "    </tr>\n",
       "    <tr>\n",
       "      <th>980</th>\n",
       "      <td>0.051920</td>\n",
       "      <td>0.059</td>\n",
       "      <td>0.500000</td>\n",
       "      <td>1</td>\n",
       "      <td>0.047945</td>\n",
       "      <td>0.044</td>\n",
       "      <td>0.087500</td>\n",
       "      <td>0.084</td>\n",
       "    </tr>\n",
       "    <tr>\n",
       "      <th>991</th>\n",
       "      <td>0.136835</td>\n",
       "      <td>0.059</td>\n",
       "      <td>0.368421</td>\n",
       "      <td>1</td>\n",
       "      <td>0.052632</td>\n",
       "      <td>0.044</td>\n",
       "      <td>0.092105</td>\n",
       "      <td>0.084</td>\n",
       "    </tr>\n",
       "    <tr>\n",
       "      <th>995</th>\n",
       "      <td>0.059254</td>\n",
       "      <td>0.059</td>\n",
       "      <td>0.272727</td>\n",
       "      <td>1</td>\n",
       "      <td>0.050847</td>\n",
       "      <td>0.044</td>\n",
       "      <td>0.085714</td>\n",
       "      <td>0.084</td>\n",
       "    </tr>\n",
       "  </tbody>\n",
       "</table>\n",
       "<p>215 rows × 8 columns</p>\n",
       "</div>"
      ],
      "text/plain": [
       "     average_precision  average_precision_model    recall  recall_model  \\\n",
       "1             0.040360                    0.059  0.571429             1   \n",
       "7             0.053272                    0.059  0.333333             1   \n",
       "10            0.034924                    0.059  0.400000             1   \n",
       "12            0.039738                    0.059  0.315789             1   \n",
       "17            0.038461                    0.059  0.437500             1   \n",
       "..                 ...                      ...       ...           ...   \n",
       "976           0.048009                    0.059  0.315789             1   \n",
       "977           0.065735                    0.059  0.571429             1   \n",
       "980           0.051920                    0.059  0.500000             1   \n",
       "991           0.136835                    0.059  0.368421             1   \n",
       "995           0.059254                    0.059  0.272727             1   \n",
       "\n",
       "     precision  precision_model        f1  f1_model  \n",
       "1     0.053333            0.044  0.097561     0.084  \n",
       "7     0.050955            0.044  0.088398     0.084  \n",
       "10    0.056738            0.044  0.099379     0.084  \n",
       "12    0.044118            0.044  0.077419     0.084  \n",
       "17    0.045455            0.044  0.082353     0.084  \n",
       "..         ...              ...       ...       ...  \n",
       "976   0.044776            0.044  0.078431     0.084  \n",
       "977   0.056738            0.044  0.103226     0.084  \n",
       "980   0.047945            0.044  0.087500     0.084  \n",
       "991   0.052632            0.044  0.092105     0.084  \n",
       "995   0.050847            0.044  0.085714     0.084  \n",
       "\n",
       "[215 rows x 8 columns]"
      ]
     },
     "execution_count": 107,
     "metadata": {},
     "output_type": "execute_result"
    }
   ],
   "source": [
    "demo = ['average_precision', 'average_precision_model',\n",
    "          'recall', 'recall_model',\n",
    "          'precision', 'precision_model',\n",
    "          'f1', 'f1_model']\n",
    "metrics_pd[metrics_pd['precision_check'] == True][demo]"
   ]
  },
  {
   "cell_type": "code",
   "execution_count": null,
   "id": "10171920",
   "metadata": {},
   "outputs": [],
   "source": []
  },
  {
   "cell_type": "code",
   "execution_count": null,
   "id": "e14da436",
   "metadata": {},
   "outputs": [],
   "source": []
  },
  {
   "cell_type": "markdown",
   "id": "3eb019ca",
   "metadata": {},
   "source": [
    "--------"
   ]
  }
 ],
 "metadata": {
  "kernelspec": {
   "display_name": "Python 3 (ipykernel)",
   "language": "python",
   "name": "python3"
  },
  "language_info": {
   "codemirror_mode": {
    "name": "ipython",
    "version": 3
   },
   "file_extension": ".py",
   "mimetype": "text/x-python",
   "name": "python",
   "nbconvert_exporter": "python",
   "pygments_lexer": "ipython3",
   "version": "3.9.7"
  }
 },
 "nbformat": 4,
 "nbformat_minor": 5
}
